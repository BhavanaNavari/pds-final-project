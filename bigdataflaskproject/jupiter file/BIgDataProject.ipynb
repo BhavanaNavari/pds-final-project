{
 "cells": [
  {
   "cell_type": "markdown",
   "metadata": {
    "id": "MTXhPLL2VAGI"
   },
   "source": []
  },
  {
   "cell_type": "code",
   "execution_count": 36,
   "metadata": {
    "id": "5V119IpJmxt5",
    "ExecuteTime": {
     "end_time": "2023-12-09T04:37:01.698477Z",
     "start_time": "2023-12-09T04:37:01.584139600Z"
    }
   },
   "outputs": [],
   "source": [
    "import numpy as np\n",
    "np.random.seed(42)  # specific seed value"
   ]
  },
  {
   "cell_type": "markdown",
   "metadata": {
    "id": "wuQGmXOVmymI"
   },
   "source": []
  },
  {
   "cell_type": "code",
   "execution_count": 37,
   "metadata": {
    "colab": {
     "base_uri": "https://localhost:8080/"
    },
    "id": "SW-z9R1JVAQx",
    "outputId": "3aa80999-3e5e-436a-9466-e6708167f191",
    "ExecuteTime": {
     "end_time": "2023-12-09T04:37:01.846450700Z",
     "start_time": "2023-12-09T04:37:01.590729Z"
    }
   },
   "outputs": [
    {
     "name": "stdout",
     "output_type": "stream",
     "text": [
      "  work_year experience_level employment_type                  job_title  \\\n",
      "0     2021e               EN              FT    Data Science Consultant   \n",
      "1      2020               SE              FT             Data Scientist   \n",
      "2     2021e               EX              FT       Head of Data Science   \n",
      "3     2021e               EX              FT               Head of Data   \n",
      "4     2021e               EN              FT  Machine Learning Engineer   \n",
      "\n",
      "   salary salary_currency  salary_in_usd employee_residence  remote_ratio  \\\n",
      "0   54000             EUR          64369                 DE            50   \n",
      "1   60000             EUR          68428                 GR           100   \n",
      "2   85000             USD          85000                 RU             0   \n",
      "3  230000             USD         230000                 RU            50   \n",
      "4  125000             USD         125000                 US           100   \n",
      "\n",
      "  company_location company_size  \n",
      "0               DE            L  \n",
      "1               US            L  \n",
      "2               RU            M  \n",
      "3               RU            L  \n",
      "4               US            S  \n"
     ]
    }
   ],
   "source": [
    "import pandas as pd\n",
    "\n",
    "# Load the dataset\n",
    "df = pd.read_csv(\"https://raw.githubusercontent.com/BhavanaNavari/PDS-Project/main/Data%20Science%20Jobs%20Salaries.csv\")\n",
    "\n",
    "# Explore the first few rows of the dataset\n",
    "print(df.head())"
   ]
  },
  {
   "cell_type": "markdown",
   "metadata": {
    "id": "gf7ZAUcvOUhS"
   },
   "source": []
  },
  {
   "cell_type": "code",
   "execution_count": 38,
   "metadata": {
    "colab": {
     "base_uri": "https://localhost:8080/"
    },
    "id": "K7YlR6srOU0Y",
    "outputId": "eb043438-d1c1-47cc-92c3-4f0a9a7ad3c9",
    "ExecuteTime": {
     "end_time": "2023-12-09T04:37:01.849508600Z",
     "start_time": "2023-12-09T04:37:01.641981700Z"
    }
   },
   "outputs": [
    {
     "name": "stdout",
     "output_type": "stream",
     "text": [
      "\n",
      "Missing Values:\n",
      "work_year             0\n",
      "experience_level      0\n",
      "employment_type       0\n",
      "job_title             0\n",
      "salary                0\n",
      "salary_currency       0\n",
      "salary_in_usd         0\n",
      "employee_residence    0\n",
      "remote_ratio          0\n",
      "company_location      0\n",
      "company_size          0\n",
      "dtype: int64\n",
      "\n",
      "Preprocessed Dataset:\n",
      "   work_year experience_level employment_type                  job_title  \\\n",
      "0       2021               EN              FT    Data Science Consultant   \n",
      "1       2020               SE              FT             Data Scientist   \n",
      "2       2021               EX              FT       Head of Data Science   \n",
      "3       2021               EX              FT               Head of Data   \n",
      "4       2021               EN              FT  Machine Learning Engineer   \n",
      "\n",
      "   salary salary_currency employee_residence  remote_ratio company_location  \\\n",
      "0   54000             EUR                 DE           0.5               DE   \n",
      "1   60000             EUR                 GR           1.0               US   \n",
      "2   85000             USD                 RU           0.0               RU   \n",
      "3  230000             USD                 RU           0.5               RU   \n",
      "4  125000             USD                 US           1.0               US   \n",
      "\n",
      "  company_size  \n",
      "0            L  \n",
      "1            L  \n",
      "2            M  \n",
      "3            L  \n",
      "4            S  \n"
     ]
    }
   ],
   "source": [
    "\n",
    "\n",
    "# Check for missing values\n",
    "print(\"\\nMissing Values:\")\n",
    "print(df.isnull().sum())\n",
    "\n",
    "# Task 1: Convert 'work_year' to a consistent format\n",
    "df['work_year'] = df['work_year'].str.replace('e', '', regex=False).astype(int)\n",
    "\n",
    "# Task 2: Convert 'salary_currency' to uppercase for consistency\n",
    "df['salary_currency'] = df['salary_currency'].str.upper()\n",
    "\n",
    "# Task 3: Convert 'experience_level' to a categorical data type\n",
    "df['experience_level'] = pd.Categorical(df['experience_level'], categories=['EN', 'MI', 'SE', 'EX'], ordered=True)\n",
    "\n",
    "# Task 4: Convert 'remote_ratio' to a percentage\n",
    "df['remote_ratio'] = df['remote_ratio'] / 100.0\n",
    "\n",
    "# Task 5: Handle missing values (replace with mean or other strategies)\n",
    "df['salary'].fillna(df['salary'].mean(), inplace=True)\n",
    "\n",
    "# Task 6: Drop unnecessary columns\n",
    "df.drop(['salary_in_usd'], axis=1, inplace=True)\n",
    "\n",
    "# Display the preprocessed dataset\n",
    "print(\"\\nPreprocessed Dataset:\")\n",
    "print(df.head())\n"
   ]
  },
  {
   "cell_type": "markdown",
   "metadata": {
    "id": "L1SWc5ThVU8T"
   },
   "source": [
    "## **Task 1: Identify Big Data Job Families**"
   ]
  },
  {
   "cell_type": "code",
   "execution_count": 39,
   "metadata": {
    "colab": {
     "base_uri": "https://localhost:8080/"
    },
    "id": "iGM_VtcFPAHb",
    "outputId": "a7298c84-795e-469f-82aa-b21bfbdb1e51",
    "ExecuteTime": {
     "end_time": "2023-12-09T04:37:01.850507500Z",
     "start_time": "2023-12-09T04:37:01.653395700Z"
    }
   },
   "outputs": [
    {
     "name": "stdout",
     "output_type": "stream",
     "text": [
      "Unique Job Titles:\n",
      "['Data Science Consultant' 'Data Scientist' 'Head of Data Science'\n",
      " 'Head of Data' 'Machine Learning Engineer' 'Data Analytics Manager'\n",
      " 'Research Scientist' 'Data Analyst' 'Data Engineer'\n",
      " 'Data Science Engineer' 'Manager Data Science' 'Data Engineering Manager'\n",
      " 'AI Scientist' '3D Computer Vision Researcher' 'ML Engineer'\n",
      " 'Applied Data Scientist' 'Director of Data Science'\n",
      " 'Data Analytics Engineer' 'Lead Data Analyst' 'BI Data Analyst'\n",
      " 'Machine Learning Scientist' 'Machine Learning Infrastructure Engineer'\n",
      " 'Marketing Data Analyst' 'Lead Data Engineer'\n",
      " 'Director of Data Engineering' 'Computer Vision Software Engineer'\n",
      " 'Financial Data Analyst' 'Cloud Data Engineer' 'Principal Data Analyst'\n",
      " 'Big Data Architect' 'Lead Data Scientist' 'Data Architect'\n",
      " 'Big Data Engineer' 'Staff Data Scientist' 'Data Science Manager'\n",
      " 'Business Data Analyst' 'Principal Data Scientist'\n",
      " 'Computer Vision Engineer' 'Product Data Analyst'\n",
      " 'Principal Data Engineer' 'Finance Data Analyst'\n",
      " 'Applied Machine Learning Scientist' 'Data Specialist']\n",
      "\n",
      "Updated Dataset with Job Families:\n",
      "                   job_title        job_family\n",
      "0    Data Science Consultant             Other\n",
      "1             Data Scientist    Data Scientist\n",
      "2       Head of Data Science             Other\n",
      "3               Head of Data             Other\n",
      "4  Machine Learning Engineer  Machine Learning\n"
     ]
    }
   ],
   "source": [
    "# Display the unique job titles to understand the data\n",
    "unique_job_titles = df['job_title'].unique()\n",
    "print(\"Unique Job Titles:\")\n",
    "print(unique_job_titles)\n",
    "\n",
    "# Task 1: Identify Big Data Job Families\n",
    "# Assume keywords related to Big Data job families (customize this based on your data)\n",
    "big_data_keywords = ['Data Scientist', 'Machine Learning', 'Data Analyst', 'Data Engineer', 'Data Science Engineer', 'Data Analytics', 'ML Engineer', 'AI Scientist', 'Big Data', 'Data Architect']\n",
    "\n",
    "# Create a new column 'job_family' and assign it based on the keywords\n",
    "def assign_job_family(title):\n",
    "    for keyword in big_data_keywords:\n",
    "        if keyword.lower() in title.lower():\n",
    "            return keyword\n",
    "    return 'Other'\n",
    "\n",
    "df['job_family'] = df['job_title'].apply(assign_job_family)\n",
    "\n",
    "# Display the updated dataset with the 'job_family' column\n",
    "print(\"\\nUpdated Dataset with Job Families:\")\n",
    "print(df[['job_title', 'job_family']].head())\n"
   ]
  },
  {
   "cell_type": "markdown",
   "metadata": {
    "id": "LyU3JF08Bb33"
   },
   "source": [
    "# **Task 2: Extract Big Data Skills**"
   ]
  },
  {
   "cell_type": "code",
   "execution_count": 40,
   "metadata": {
    "colab": {
     "base_uri": "https://localhost:8080/"
    },
    "id": "GOV-BQzaCjZF",
    "outputId": "c261cdcf-98cb-4ee3-b9b8-5aa1294756b8",
    "ExecuteTime": {
     "end_time": "2023-12-09T04:37:01.853585600Z",
     "start_time": "2023-12-09T04:37:01.665062100Z"
    }
   },
   "outputs": [
    {
     "name": "stderr",
     "output_type": "stream",
     "text": [
      "[nltk_data] Downloading package stopwords to\n",
      "[nltk_data]     C:\\Users\\Bhavana\\AppData\\Roaming\\nltk_data...\n",
      "[nltk_data]   Package stopwords is already up-to-date!\n"
     ]
    },
    {
     "data": {
      "text/plain": "True"
     },
     "execution_count": 40,
     "metadata": {},
     "output_type": "execute_result"
    }
   ],
   "source": [
    "import nltk\n",
    "\n",
    "# Download the 'stopwords' corpus\n",
    "nltk.download('stopwords')\n"
   ]
  },
  {
   "cell_type": "code",
   "execution_count": 41,
   "metadata": {
    "colab": {
     "base_uri": "https://localhost:8080/"
    },
    "id": "pspMdYlGBcCP",
    "outputId": "0193dc9f-ea2b-4406-ed25-aba02bca2ee1",
    "ExecuteTime": {
     "end_time": "2023-12-09T04:37:01.862697400Z",
     "start_time": "2023-12-09T04:37:01.674730600Z"
    }
   },
   "outputs": [
    {
     "name": "stdout",
     "output_type": "stream",
     "text": [
      "\n",
      "Refined Extracted Big Data Skills:\n",
      "   Big Data Skills\n",
      "0          applied\n",
      "1         learning\n",
      "2            staff\n",
      "3               ml\n",
      "4        marketing\n",
      "5   infrastructure\n",
      "6            cloud\n",
      "7         engineer\n",
      "8              big\n",
      "9          product\n",
      "10        director\n",
      "11              bi\n",
      "12         science\n",
      "13       principal\n",
      "14          vision\n",
      "15              3d\n",
      "16        computer\n",
      "17        research\n",
      "18       architect\n",
      "19            lead\n",
      "20            data\n",
      "21         machine\n",
      "22         manager\n",
      "23      specialist\n",
      "24       financial\n",
      "25      researcher\n",
      "26         finance\n",
      "27              ai\n",
      "28        business\n",
      "29         analyst\n",
      "30        software\n",
      "31     engineering\n",
      "32            head\n",
      "33      consultant\n",
      "34       analytics\n",
      "35       scientist\n"
     ]
    }
   ],
   "source": [
    "from nltk.corpus import stopwords\n",
    "\n",
    "# Combine all job titles into a single string\n",
    "all_job_titles = ' '.join(df['job_title'].str.lower())\n",
    "\n",
    "# Split the string into words\n",
    "words = all_job_titles.split()\n",
    "\n",
    "# Remove stopwords\n",
    "stop_words = set(stopwords.words('english'))\n",
    "filtered_skills = [word for word in words if word not in stop_words]\n",
    "\n",
    "# Extract unique words as potential skills\n",
    "unique_skills = set(filtered_skills)\n",
    "\n",
    "# Convert the list of skills to a DataFrame\n",
    "skills_df = pd.DataFrame({'Big Data Skills': list(unique_skills)})\n",
    "\n",
    "# Display the refined list of extracted skills in table form\n",
    "print(\"\\nRefined Extracted Big Data Skills:\")\n",
    "print(skills_df)\n"
   ]
  },
  {
   "cell_type": "markdown",
   "metadata": {
    "id": "cWFqKsNID7Qr"
   },
   "source": [
    "# **Task 3: Homogeneous Groups of Big Data Skills (Cluster Analysis or Association Analysis)**\n",
    "You may use machine learning clustering techniques or association rules mining to identify groups of skills.\n",
    "This step can be more complex and depends on the specific techniques you choose.\n"
   ]
  },
  {
   "cell_type": "markdown",
   "metadata": {
    "id": "NYiw4S-LEK_P"
   },
   "source": []
  },
  {
   "cell_type": "code",
   "execution_count": 42,
   "metadata": {
    "id": "4gYMYJ2hEMJH",
    "ExecuteTime": {
     "end_time": "2023-12-09T04:37:01.862697400Z",
     "start_time": "2023-12-09T04:37:01.682126600Z"
    }
   },
   "outputs": [],
   "source": [
    "from sklearn.feature_extraction.text import TfidfVectorizer\n",
    "from sklearn.cluster import KMeans"
   ]
  },
  {
   "cell_type": "code",
   "execution_count": 43,
   "metadata": {
    "colab": {
     "base_uri": "https://localhost:8080/"
    },
    "id": "GMWpKO78D6Zd",
    "outputId": "0d3f3a02-b095-4593-d483-fc1de1d80159",
    "ExecuteTime": {
     "end_time": "2023-12-09T04:37:01.873941300Z",
     "start_time": "2023-12-09T04:37:01.687180700Z"
    }
   },
   "outputs": [
    {
     "name": "stdout",
     "output_type": "stream",
     "text": [
      "\n",
      "Homogeneous Groups of Big Data Skills (Cluster Analysis):\n",
      "   Big Data Skills  Cluster\n",
      "0          applied        0\n",
      "20            data        0\n",
      "21         machine        0\n",
      "22         manager        0\n",
      "23      specialist        0\n",
      "24       financial        0\n",
      "25      researcher        0\n",
      "19            lead        0\n",
      "26         finance        0\n",
      "28        business        0\n",
      "29         analyst        0\n",
      "30        software        0\n",
      "31     engineering        0\n",
      "32            head        0\n",
      "33      consultant        0\n",
      "27              ai        0\n",
      "18       architect        0\n",
      "17        research        0\n",
      "16        computer        0\n",
      "1         learning        0\n",
      "2            staff        0\n",
      "3               ml        0\n",
      "4        marketing        0\n",
      "6            cloud        0\n",
      "7         engineer        0\n",
      "8              big        0\n",
      "10        director        0\n",
      "11              bi        0\n",
      "12         science        0\n",
      "13       principal        0\n",
      "14          vision        0\n",
      "15              3d        0\n",
      "9          product        0\n",
      "35       scientist        0\n",
      "34       analytics        1\n",
      "5   infrastructure        2\n"
     ]
    },
    {
     "name": "stderr",
     "output_type": "stream",
     "text": [
      "C:\\Users\\Bhavana\\Downloads\\bigdataflaskproject\\venv\\Lib\\site-packages\\sklearn\\cluster\\_kmeans.py:1416: FutureWarning:\n",
      "\n",
      "The default value of `n_init` will change from 10 to 'auto' in 1.4. Set the value of `n_init` explicitly to suppress the warning\n",
      "\n"
     ]
    }
   ],
   "source": [
    "# Use TF-IDF vectorization to convert skills into numerical features\n",
    "vectorizer = TfidfVectorizer()\n",
    "skills_tfidf = vectorizer.fit_transform(skills_df['Big Data Skills'])\n",
    "\n",
    "# Apply KMeans clustering\n",
    "num_clusters = 3  # You can adjust the number of clusters based on your preference\n",
    "kmeans = KMeans(n_clusters=num_clusters, random_state=42)\n",
    "skills_df['Cluster'] = kmeans.fit_predict(skills_tfidf)\n",
    "\n",
    "# Display the results\n",
    "print(\"\\nHomogeneous Groups of Big Data Skills (Cluster Analysis):\")\n",
    "print(skills_df.sort_values(by='Cluster'))"
   ]
  },
  {
   "cell_type": "markdown",
   "metadata": {
    "id": "38OX-jkhEqUd"
   },
   "source": [
    "clustering results have grouped the skills into three clusters (0, 1, and 2). Each skill is assigned to a cluster, and you can interpret these clusters as homogeneous groups of Big Data skills."
   ]
  },
  {
   "cell_type": "markdown",
   "metadata": {
    "id": "_5RCGj7hE01r"
   },
   "source": [
    "# **Task 4: Characterize Job Families by Competence Level**\n",
    "Assuming 'experience_level' column can be used to characterize competence levels\n",
    "competence_levels = df.groupby('job_title')['experience_level'].unique() print(\"Competence Levels by Job Family:\") print(competence_levels)"
   ]
  },
  {
   "cell_type": "code",
   "execution_count": 44,
   "metadata": {
    "colab": {
     "base_uri": "https://localhost:8080/"
    },
    "id": "Lr2_zdM5E5Ey",
    "outputId": "57b18510-0154-4e2f-b100-fe3281a639cb",
    "ExecuteTime": {
     "end_time": "2023-12-09T04:37:01.874937200Z",
     "start_time": "2023-12-09T04:37:01.722942200Z"
    }
   },
   "outputs": [
    {
     "name": "stdout",
     "output_type": "stream",
     "text": [
      "\n",
      "Competence Levels by Job Family:\n",
      "3D Computer Vision Researcher: MI\n",
      "AI Scientist: EN, SE\n",
      "Applied Data Scientist: MI\n",
      "Applied Machine Learning Scientist: MI\n",
      "BI Data Analyst: MI, EX, EN\n",
      "Big Data Architect: SE\n",
      "Big Data Engineer: SE, EN, MI\n",
      "Business Data Analyst: MI, EN\n",
      "Cloud Data Engineer: MI, SE\n",
      "Computer Vision Engineer: EN, SE\n",
      "Computer Vision Software Engineer: MI, EN\n",
      "Data Analyst: MI, EN, SE\n",
      "Data Analytics Engineer: MI, SE\n",
      "Data Analytics Manager: SE\n",
      "Data Architect: MI\n",
      "Data Engineer: MI, EN, SE\n",
      "Data Engineering Manager: SE, EX\n",
      "Data Science Consultant: EN, MI, EX\n",
      "Data Science Engineer: SE, MI\n",
      "Data Science Manager: SE\n",
      "Data Scientist: SE, EN, MI\n",
      "Data Specialist: SE\n",
      "Director of Data Engineering: SE\n",
      "Director of Data Science: EX, SE\n",
      "Finance Data Analyst: SE\n",
      "Financial Data Analyst: MI\n",
      "Head of Data: EX\n",
      "Head of Data Science: EX, MI\n",
      "Lead Data Analyst: SE, MI\n",
      "Lead Data Engineer: SE, MI\n",
      "Lead Data Scientist: MI, SE\n",
      "ML Engineer: MI, EN, SE\n",
      "Machine Learning Engineer: EN, MI, SE\n",
      "Machine Learning Infrastructure Engineer: MI, SE\n",
      "Machine Learning Scientist: EN, SE, MI\n",
      "Manager Data Science: SE\n",
      "Marketing Data Analyst: SE\n",
      "Principal Data Analyst: SE\n",
      "Principal Data Engineer: EX, SE\n",
      "Principal Data Scientist: EX, SE, MI\n",
      "Product Data Analyst: MI\n",
      "Research Scientist: MI, EN, SE\n",
      "Staff Data Scientist: SE\n"
     ]
    }
   ],
   "source": [
    "# Group by job title and collect unique competence levels\n",
    "competence_levels = df.groupby('job_title')['experience_level'].unique()\n",
    "\n",
    "# Display the competence levels by job family\n",
    "print(\"\\nCompetence Levels by Job Family:\")\n",
    "for job_title, levels in competence_levels.items():\n",
    "    print(f\"{job_title}: {', '.join(levels)}\")"
   ]
  },
  {
   "cell_type": "markdown",
   "metadata": {
    "id": "Zzx6zzqyGT4s"
   },
   "source": [
    "*In this section, we characterized job families in the Big Data field based on the provided dataset. The analysis involved identifying homogeneous groups of Big Data skills through a clustering approach, revealing three distinct skill clusters. Subsequently, we delved into the competence levels associated with each job family using the 'experience_level' column. The results unveiled a comprehensive mapping of competence levels to specific job titles, offering valuable insights into the expertise required for various roles in the Big Data domain. This categorization facilitates a nuanced understanding of the skills and experience levels demanded by different job families, serving as a valuable resource for HR departments seeking to optimize recruitment strategies in the ever-evolving landscape of Big Data professions.*"
   ]
  },
  {
   "cell_type": "markdown",
   "metadata": {
    "id": "Cg2gC1DXGeiA"
   },
   "source": [
    "## **Task 5: Data Analysis and Visualization**\n",
    "You can use libraries like Matplotlib or Seaborn for visualization.\n",
    "Analyze and visualize the distribution of competence levels, most valued skills, etc."
   ]
  },
  {
   "cell_type": "markdown",
   "metadata": {
    "id": "MGB6iigUJfHg"
   },
   "source": [
    "**1. Distribution of Competence Levels:**\n",
    "\n",
    "Visualizing the distribution of competence levels across all job families can provide insights into the overall workforce composition."
   ]
  },
  {
   "cell_type": "code",
   "execution_count": 45,
   "metadata": {
    "colab": {
     "base_uri": "https://localhost:8080/",
     "height": 564
    },
    "id": "0z6UObD5HH_V",
    "outputId": "75f83d53-2df7-4ef9-80f0-34916f850f74",
    "ExecuteTime": {
     "end_time": "2023-12-09T04:37:02.025296100Z",
     "start_time": "2023-12-09T04:37:01.735049900Z"
    }
   },
   "outputs": [
    {
     "data": {
      "text/plain": "<Figure size 1000x600 with 1 Axes>",
      "image/png": "[encoded data removed]"
     },
     "metadata": {},
     "output_type": "display_data"
    }
   ],
   "source": [
    "import matplotlib.pyplot as plt\n",
    "import seaborn as sns\n",
    "#\n",
    "\n",
    "# Distribution of Competence Levels\n",
    "plt.figure(figsize=(10, 6))\n",
    "sns.countplot(x='experience_level', data=df, order=df['experience_level'].value_counts().index)\n",
    "plt.title('Distribution of Competence Levels')\n",
    "plt.xlabel('Experience Level')\n",
    "plt.ylabel('Count')\n",
    "plt.show()"
   ]
  },
  {
   "cell_type": "markdown",
   "metadata": {
    "id": "vWCbYdV-Jdv9"
   },
   "source": []
  },
  {
   "cell_type": "markdown",
   "metadata": {
    "id": "VI9NhlDYH2x8"
   },
   "source": [
    "*The visualization is a bar plot showing the distribution of competence levels based on the 'experience_level' column.*"
   ]
  },
  {
   "cell_type": "code",
   "execution_count": 46,
   "metadata": {
    "id": "dSJM8HlvHmp7",
    "ExecuteTime": {
     "end_time": "2023-12-09T04:37:02.027351Z",
     "start_time": "2023-12-09T04:37:01.917580200Z"
    }
   },
   "outputs": [],
   "source": [
    "# Most Valued Skills\n",
    "#'job_title' column contains information about skills\n",
    "all_job_titles = ' '.join(df['job_title'].str.lower())\n",
    "words = all_job_titles.split()\n",
    "filtered_skills = [word for word in words if word not in stopwords.words('english')]\n",
    "unique_skills = set(filtered_skills)"
   ]
  },
  {
   "cell_type": "markdown",
   "metadata": {
    "id": "zxBAOH58JvAW"
   },
   "source": [
    "**2. Most Valued Skills Word Cloud:**\n",
    "\n",
    "Creating a word cloud can visually represent the most frequently occurring skills across all job titles, providing a quick overview of the prominent skills."
   ]
  },
  {
   "cell_type": "code",
   "execution_count": 47,
   "metadata": {
    "colab": {
     "base_uri": "https://localhost:8080/",
     "height": 446
    },
    "id": "VAuEbsUWHips",
    "outputId": "a65a0fe9-8c58-42be-a849-517f26db500b",
    "ExecuteTime": {
     "end_time": "2023-12-09T04:37:02.301287500Z",
     "start_time": "2023-12-09T04:37:01.993640200Z"
    }
   },
   "outputs": [
    {
     "data": {
      "text/plain": "<Figure size 1000x600 with 1 Axes>",
      "image/png": "[encoded data removed]"
     },
     "metadata": {},
     "output_type": "display_data"
    }
   ],
   "source": [
    "# Plotting Word Cloud for Most Valued Skills\n",
    "from wordcloud import WordCloud\n",
    "\n",
    "wordcloud = WordCloud(width=800, height=400, background_color='white').generate(' '.join(unique_skills))\n",
    "plt.figure(figsize=(10, 6))\n",
    "plt.imshow(wordcloud, interpolation='bilinear')\n",
    "plt.axis('off')\n",
    "plt.title('Word Cloud for Most Valued Skills')\n",
    "plt.show()"
   ]
  },
  {
   "cell_type": "markdown",
   "metadata": {
    "id": "uLrQeDF5H8n0"
   },
   "source": [
    "*visualization is a word cloud depicting the most valued skills extracted from the 'job_title' column.*"
   ]
  },
  {
   "cell_type": "markdown",
   "metadata": {
    "id": "F686gyB1I6rC"
   },
   "source": [
    "**3. Competence Levels by Job Family Heatmap:**\n",
    "\n",
    "A heatmap displayin the association between job families and competence level"
   ]
  },
  {
   "cell_type": "code",
   "execution_count": 48,
   "metadata": {
    "colab": {
     "base_uri": "https://localhost:8080/",
     "height": 660
    },
    "id": "pVa1112ZIjiV",
    "outputId": "4bc6b294-8f4d-4e60-b476-cc6a6b62dcde",
    "ExecuteTime": {
     "end_time": "2023-12-09T04:37:02.871840500Z",
     "start_time": "2023-12-09T04:37:02.302934700Z"
    }
   },
   "outputs": [
    {
     "name": "stderr",
     "output_type": "stream",
     "text": [
      "C:\\Users\\Bhavana\\AppData\\Local\\Temp\\ipykernel_16044\\3072633565.py:2: FutureWarning:\n",
      "\n",
      "The default of observed=False is deprecated and will be changed to True in a future version of pandas. Pass observed=False to retain current behavior or observed=True to adopt the future default and silence this warning.\n",
      "\n"
     ]
    },
    {
     "data": {
      "text/plain": "<Figure size 1200x800 with 2 Axes>",
      "image/png": "[encoded data removed]"
     },
     "metadata": {},
     "output_type": "display_data"
    }
   ],
   "source": [
    "# Create a pivot table for heatmap\n",
    "heatmap_data = df.groupby(['job_title', 'experience_level']).size().unstack(fill_value=0)\n",
    "\n",
    "# Plotting Heatmap for Competence Levels by Job Family\n",
    "plt.figure(figsize=(12, 8))\n",
    "sns.heatmap(heatmap_data, cmap='viridis', annot=True, fmt='d')\n",
    "plt.title('Competence Levels by Job Family')\n",
    "plt.xlabel('Experience Level')\n",
    "plt.ylabel('Job Family')\n",
    "plt.show()\n"
   ]
  },
  {
   "cell_type": "markdown",
   "metadata": {
    "id": "2ApDvY44LYdy"
   },
   "source": [
    "# **Task 6: Recommendations for Recruitment**\n",
    "Based on your analysis, provide recommendations for recruitment strategies."
   ]
  },
  {
   "cell_type": "code",
   "execution_count": 49,
   "metadata": {
    "colab": {
     "base_uri": "https://localhost:8080/"
    },
    "id": "qutwJTvNOVoD",
    "outputId": "cd829c70-d32e-4aa0-eaa0-d359c07a0002",
    "ExecuteTime": {
     "end_time": "2023-12-09T04:37:04.341672400Z",
     "start_time": "2023-12-09T04:37:02.870322400Z"
    }
   },
   "outputs": [
    {
     "name": "stdout",
     "output_type": "stream",
     "text": [
      "Requirement already satisfied: tabulate in c:\\users\\bhavana\\downloads\\bigdataflaskproject\\venv\\lib\\site-packages (0.9.0)\n"
     ]
    },
    {
     "name": "stderr",
     "output_type": "stream",
     "text": [
      "\n",
      "[notice] A new release of pip is available: 23.2.1 -> 23.3.1\n",
      "[notice] To update, run: python.exe -m pip install --upgrade pip\n"
     ]
    }
   ],
   "source": [
    "!pip install tabulate"
   ]
  },
  {
   "cell_type": "code",
   "execution_count": 50,
   "metadata": {
    "colab": {
     "base_uri": "https://localhost:8080/"
    },
    "id": "EJN8KS3MLUbV",
    "outputId": "eb483227-e8e2-42d9-8f98-b8ab7f150068",
    "ExecuteTime": {
     "end_time": "2023-12-09T04:37:04.350571100Z",
     "start_time": "2023-12-09T04:37:04.347366500Z"
    }
   },
   "outputs": [
    {
     "name": "stdout",
     "output_type": "stream",
     "text": [
      "+----------------+------+\n",
      "|     Skill      | Rank |\n",
      "+----------------+------+\n",
      "|      data      |  1   |\n",
      "|    engineer    |  2   |\n",
      "|   scientist    |  3   |\n",
      "|    analyst     |  4   |\n",
      "|    learning    |  5   |\n",
      "|    machine     |  6   |\n",
      "|    science     |  7   |\n",
      "|    manager     |  8   |\n",
      "|    research    |  9   |\n",
      "|      lead      |  10  |\n",
      "|   principal    |  11  |\n",
      "|      big       |  12  |\n",
      "|   consultant   |  13  |\n",
      "|    director    |  14  |\n",
      "|     vision     |  15  |\n",
      "|    computer    |  16  |\n",
      "|   analytics    |  17  |\n",
      "|       bi       |  18  |\n",
      "|       ai       |  19  |\n",
      "|  engineering   |  20  |\n",
      "|      head      |  21  |\n",
      "|       ml       |  22  |\n",
      "|    business    |  23  |\n",
      "|    applied     |  24  |\n",
      "| infrastructure |  25  |\n",
      "|     cloud      |  26  |\n",
      "|   architect    |  27  |\n",
      "|    software    |  28  |\n",
      "|     staff      |  29  |\n",
      "|   marketing    |  30  |\n",
      "|    product     |  31  |\n",
      "|       3d       |  32  |\n",
      "|   specialist   |  33  |\n",
      "|   financial    |  34  |\n",
      "|   researcher   |  35  |\n",
      "|    finance     |  36  |\n",
      "+----------------+------+\n"
     ]
    }
   ],
   "source": [
    "from tabulate import tabulate\n",
    "# Calculate the frequency of each skill in the dataset\n",
    "skill_frequencies = {skill: filtered_skills.count(skill) for skill in unique_skills}\n",
    "\n",
    "# Rank the skills based on frequency (1 is the highest rank)\n",
    "ranked_skills = sorted(skill_frequencies, key=skill_frequencies.get, reverse=True)\n",
    "numbered_skills = [{'Skill': skill, 'Rank': i+1} for i, skill in enumerate(ranked_skills)]\n",
    "\n",
    "# Display the list of skills with ranks in a visually attractive table\n",
    "table = tabulate(numbered_skills, headers=\"keys\", tablefmt=\"pretty\")\n",
    "print(table)"
   ]
  },
  {
   "cell_type": "code",
   "execution_count": 51,
   "metadata": {
    "colab": {
     "base_uri": "https://localhost:8080/"
    },
    "id": "rDoh4OspOeoj",
    "outputId": "1999372c-feaf-42e4-8d8a-a4156aa9ffc2",
    "ExecuteTime": {
     "end_time": "2023-12-09T04:37:04.411616700Z",
     "start_time": "2023-12-09T04:37:04.352563200Z"
    }
   },
   "outputs": [
    {
     "name": "stdout",
     "output_type": "stream",
     "text": [
      "+------------------------------------------+------+\n",
      "|                Job Family                | Rank |\n",
      "+------------------------------------------+------+\n",
      "|              data scientist              |  1   |\n",
      "|              data engineer               |  2   |\n",
      "|        machine learning engineer         |  3   |\n",
      "|               data analyst               |  4   |\n",
      "|            research scientist            |  5   |\n",
      "|         data science consultant          |  6   |\n",
      "|            big data engineer             |  7   |\n",
      "|           data science manager           |  8   |\n",
      "|            lead data engineer            |  9   |\n",
      "|             bi data analyst              |  10  |\n",
      "|               ai scientist               |  11  |\n",
      "|         principal data scientist         |  12  |\n",
      "|         director of data science         |  13  |\n",
      "|        machine learning scientist        |  14  |\n",
      "|         data engineering manager         |  15  |\n",
      "|          business data analyst           |  16  |\n",
      "|               ml engineer                |  17  |\n",
      "|         data analytics engineer          |  18  |\n",
      "|            lead data analyst             |  19  |\n",
      "|          data analytics manager          |  20  |\n",
      "|         computer vision engineer         |  21  |\n",
      "|    computer vision software engineer     |  22  |\n",
      "|           lead data scientist            |  23  |\n",
      "|         principal data engineer          |  24  |\n",
      "|           cloud data engineer            |  25  |\n",
      "| machine learning infrastructure engineer |  26  |\n",
      "|           head of data science           |  27  |\n",
      "|               head of data               |  28  |\n",
      "|          data science engineer           |  29  |\n",
      "|       director of data engineering       |  30  |\n",
      "|          financial data analyst          |  31  |\n",
      "|           manager data science           |  32  |\n",
      "|    applied machine learning scientist    |  33  |\n",
      "|           finance data analyst           |  34  |\n",
      "|           product data analyst           |  35  |\n",
      "|      3d computer vision researcher       |  36  |\n",
      "|           staff data scientist           |  37  |\n",
      "|          applied data scientist          |  38  |\n",
      "|              data architect              |  39  |\n",
      "|          marketing data analyst          |  40  |\n",
      "|            big data architect            |  41  |\n",
      "|          principal data analyst          |  42  |\n",
      "|             data specialist              |  43  |\n",
      "+------------------------------------------+------+\n"
     ]
    }
   ],
   "source": [
    "from tabulate import tabulate\n",
    "# Assuming 'job_title' column contains information about job families\n",
    "job_families = df['job_title'].str.lower()\n",
    "\n",
    "# Calculate the frequency of each job family in the dataset\n",
    "job_family_frequencies = job_families.value_counts().to_dict()\n",
    "\n",
    "# Rank the job families based on frequency (1 is the highest rank)\n",
    "ranked_job_families = sorted(job_family_frequencies, key=job_family_frequencies.get, reverse=True)\n",
    "numbered_job_families = [{'Job Family': job_family, 'Rank': i+1} for i, job_family in enumerate(ranked_job_families)]\n",
    "\n",
    "# Display the list of job families with ranks in a visually attractive table\n",
    "table = tabulate(numbered_job_families, headers=\"keys\", tablefmt=\"pretty\")\n",
    "print(table)"
   ]
  },
  {
   "cell_type": "markdown",
   "metadata": {
    "id": "LBMMlaHXP14l"
   },
   "source": [
    "# **Based on your analysis, provide recommendations for recruitment strategies.**\n",
    "\n"
   ]
  },
  {
   "cell_type": "markdown",
   "metadata": {
    "id": "BCfPEOhWo2uS"
   },
   "source": [
    "***Focus on In-Demand Job Families:***\n",
    "\n",
    "*Prioritize recruitment efforts for job families that are highly prevalent and in demand, such as \"Data Scientist,\" \"Data Engineer,\" and \"Machine Learning Engineer.\"*\n",
    "\n",
    "***Emphasize Key Skills in Recruitment:***\n",
    "\n",
    "*Identify and emphasize the most valued skills in the Big Data domain, as highlighted by the word cloud and skill ranking analysis.*\n",
    "*Tailor recruitment messages to highlight the importance of these key skills for the specific job families.*\n",
    "\n",
    "***Consider Remote Work Opportunities:***\n",
    "\n",
    "*Acknowledge the trend of remote work, as indicated by the \"remote_ratio\" column in the dataset.*\n",
    "*Consider offering remote work opportunities or flexibility to attract a broader pool of candidates.*\n",
    "\n",
    "***Target Mid-Level and Senior-Level Candidates:***\n",
    "\n",
    "*Given the distribution of experience levels in the dataset, target mid-level (MI) and senior-level (SE) candidates for key roles.*\n",
    "*Develop recruitment strategies that align with the experience level preferences of each job family.*\n",
    "\n",
    "***Invest in Skill Development Programs:***\n",
    "\n",
    "*Recognize the importance of specific skills and competencies for various job families*.\n",
    "*Develop tailored skill acquisition programs or training sessions to enhance these skills among potential candidates, as highlighted by the word cloud and skill ranking.*\n",
    "\n",
    "***Utilize Online Platforms for Job Posts:***\n",
    "\n",
    "*Leverage online platforms and job boards for posting job opportunities to reach a wider audience.*\n",
    "*Craft compelling job descriptions that clearly outline the skills and qualifications required for each role.*\n",
    "\n",
    "***Collaborate with Educational Institutions:***\n",
    "\n",
    "*Establish partnerships with educational institutions to tap into emerging talent.*\n",
    "*Collaborate with universities and training programs to identify and attract candidates with relevant skills.*\n",
    "\n",
    "***Stay Competitive with Compensation:***\n",
    "\n",
    "*Stay informed about industry salary trends and offer competitive compensation packages.*\n",
    "*Highlight additional benefits, such as professional development opportunities and a positive work culture.*\n",
    "\n",
    "***Promote Diversity and Inclusion:***\n",
    "\n",
    "*Foster a diverse and inclusive workplace by actively seeking candidates from diverse backgrounds.*\n",
    "*Highlight the company's commitment to diversity in recruitment materials.*\n",
    "\n",
    "***Continuous Monitoring and Adjustment:***\n",
    "\n",
    "*Regularly monitor recruitment outcomes and adjust strategies based on the evolving needs of the organization and the job market.*\n",
    "\n",
    "\n",
    "*These recommendations aim to enhance the effectiveness of recruitment strategies, aligning them with the specific characteristics of the Big Data job market and the preferences of potential candidates.*"
   ]
  },
  {
   "cell_type": "code",
   "execution_count": 51,
   "metadata": {
    "id": "Rx_A9fiDsZCy",
    "ExecuteTime": {
     "end_time": "2023-12-09T04:37:04.411616700Z",
     "start_time": "2023-12-09T04:37:04.371713600Z"
    }
   },
   "outputs": [],
   "source": []
  },
  {
   "cell_type": "code",
   "execution_count": 52,
   "metadata": {
    "colab": {
     "base_uri": "https://localhost:8080/",
     "height": 1000
    },
    "id": "CQ1BRTrnt5qR",
    "outputId": "aabfb2ea-8d9d-47d7-eee0-71c59b634566",
    "ExecuteTime": {
     "end_time": "2023-12-09T04:37:04.529657100Z",
     "start_time": "2023-12-09T04:37:04.386094100Z"
    }
   },
   "outputs": [
    {
     "data": {
      "application/vnd.plotly.v1+json": {
       "data": [
        {
         "domain": {
          "x": [
           0.0,
           1.0
          ],
          "y": [
           0.0,
           1.0
          ]
         },
         "hovertemplate": "job_title=%{label}<extra></extra>",
         "labels": [
          "Data Science Consultant",
          "Data Scientist",
          "Head of Data Science",
          "Head of Data",
          "Machine Learning Engineer",
          "Data Analytics Manager",
          "Research Scientist",
          "Data Analyst",
          "Data Engineer",
          "Data Science Engineer",
          "Manager Data Science",
          "Data Scientist",
          "Data Scientist",
          "Data Scientist",
          "Data Science Consultant",
          "Data Engineering Manager",
          "Data Engineer",
          "Data Analyst",
          "Data Analyst",
          "Data Scientist",
          "AI Scientist",
          "3D Computer Vision Researcher",
          "ML Engineer",
          "Applied Data Scientist",
          "Machine Learning Engineer",
          "Director of Data Science",
          "Data Engineer",
          "Data Analytics Engineer",
          "Research Scientist",
          "Machine Learning Engineer",
          "Data Analyst",
          "Data Analyst",
          "Data Analyst",
          "Machine Learning Engineer",
          "Data Engineer",
          "Data Analytics Engineer",
          "Lead Data Analyst",
          "Data Analyst",
          "Data Scientist",
          "BI Data Analyst",
          "Data Scientist",
          "Head of Data",
          "BI Data Analyst",
          "Data Engineering Manager",
          "Machine Learning Scientist",
          "Data Science Consultant",
          "Machine Learning Infrastructure Engineer",
          "Marketing Data Analyst",
          "Lead Data Engineer",
          "Director of Data Engineering",
          "Machine Learning Engineer",
          "Data Engineer",
          "Data Engineer",
          "Data Engineer",
          "Research Scientist",
          "Data Analyst",
          "Data Engineer",
          "Data Engineer",
          "BI Data Analyst",
          "Data Engineer",
          "ML Engineer",
          "Computer Vision Software Engineer",
          "Computer Vision Software Engineer",
          "Financial Data Analyst",
          "Data Scientist",
          "Cloud Data Engineer",
          "Data Scientist",
          "Lead Data Engineer",
          "Data Engineer",
          "Cloud Data Engineer",
          "Data Scientist",
          "Data Engineer",
          "Data Engineering Manager",
          "Data Analyst",
          "Data Scientist",
          "Research Scientist",
          "Data Scientist",
          "Data Engineer",
          "Data Analyst",
          "Data Engineer",
          "Principal Data Analyst",
          "Data Engineer",
          "Data Engineer",
          "Data Scientist",
          "Data Engineer",
          "Data Analyst",
          "Big Data Architect",
          "Data Scientist",
          "Data Analyst",
          "Data Scientist",
          "Data Engineer",
          "Research Scientist",
          "Lead Data Scientist",
          "Research Scientist",
          "Machine Learning Scientist",
          "Head of Data Science",
          "Data Architect",
          "Data Analyst",
          "Big Data Engineer",
          "Director of Data Engineering",
          "ML Engineer",
          "Data Engineer",
          "Data Scientist",
          "Data Engineer",
          "Machine Learning Engineer",
          "Data Engineer",
          "Research Scientist",
          "Data Engineer",
          "Machine Learning Engineer",
          "Data Scientist",
          "AI Scientist",
          "Data Scientist",
          "Data Scientist",
          "Data Scientist",
          "Machine Learning Engineer",
          "Data Science Consultant",
          "Staff Data Scientist",
          "Data Analyst",
          "Data Engineer",
          "Data Engineer",
          "Data Engineer",
          "Data Engineer",
          "Lead Data Engineer",
          "Data Scientist",
          "Machine Learning Engineer",
          "Data Scientist",
          "Data Analyst",
          "Lead Data Scientist",
          "Director of Data Science",
          "Big Data Engineer",
          "Data Analyst",
          "Data Scientist",
          "Data Scientist",
          "Machine Learning Engineer",
          "Data Science Manager",
          "Machine Learning Engineer",
          "BI Data Analyst",
          "Data Scientist",
          "Research Scientist",
          "Data Science Manager",
          "Business Data Analyst",
          "Machine Learning Engineer",
          "Lead Data Engineer",
          "Data Scientist",
          "Data Scientist",
          "Data Science Consultant",
          "Data Analytics Engineer",
          "Data Engineer",
          "Data Scientist",
          "Lead Data Analyst",
          "Data Engineer",
          "Data Scientist",
          "Big Data Engineer",
          "Data Scientist",
          "Machine Learning Engineer",
          "Data Scientist",
          "Data Scientist",
          "Data Science Consultant",
          "Data Scientist",
          "Machine Learning Infrastructure Engineer",
          "Data Scientist",
          "Data Analyst",
          "Principal Data Scientist",
          "Machine Learning Scientist",
          "Data Scientist",
          "Data Scientist",
          "Data Scientist",
          "Machine Learning Engineer",
          "Data Analyst",
          "Data Engineer",
          "Big Data Engineer",
          "Machine Learning Engineer",
          "Data Science Consultant",
          "Lead Data Engineer",
          "Computer Vision Engineer",
          "Data Scientist",
          "Machine Learning Engineer",
          "Product Data Analyst",
          "Data Engineer",
          "BI Data Analyst",
          "Data Engineer",
          "Research Scientist",
          "Machine Learning Engineer",
          "Data Analytics Manager",
          "Data Engineer",
          "Director of Data Science",
          "Machine Learning Engineer",
          "AI Scientist",
          "Data Scientist",
          "Research Scientist",
          "Data Science Engineer",
          "Principal Data Engineer",
          "Data Scientist",
          "Data Engineer",
          "Big Data Engineer",
          "Data Scientist",
          "Principal Data Engineer",
          "Data Scientist",
          "Data Scientist",
          "Data Scientist",
          "Data Engineer",
          "Data Analytics Manager",
          "Data Scientist",
          "Data Scientist",
          "Finance Data Analyst",
          "Machine Learning Scientist",
          "Data Engineer",
          "Machine Learning Engineer",
          "Data Science Manager",
          "Big Data Engineer",
          "Computer Vision Engineer",
          "Data Scientist",
          "Computer Vision Engineer",
          "Business Data Analyst",
          "Principal Data Scientist",
          "Principal Data Scientist",
          "Data Scientist",
          "Data Scientist",
          "Data Scientist",
          "AI Scientist",
          "Data Scientist",
          "Data Scientist",
          "Data Scientist",
          "Principal Data Scientist",
          "Lead Data Analyst",
          "AI Scientist",
          "Data Analyst",
          "Data Analyst",
          "Data Scientist",
          "Data Engineer",
          "Data Science Manager",
          "Data Scientist",
          "Data Scientist",
          "Data Engineer",
          "Machine Learning Engineer",
          "Director of Data Science",
          "Data Scientist",
          "Applied Machine Learning Scientist",
          "Data Engineer",
          "Data Specialist",
          "Data Scientist",
          "Principal Data Scientist",
          "Data Scientist",
          "Business Data Analyst",
          "Data Science Manager"
         ],
         "legendgroup": "",
         "name": "",
         "showlegend": true,
         "type": "pie"
        }
       ],
       "layout": {
        "template": {
         "data": {
          "histogram2dcontour": [
           {
            "type": "histogram2dcontour",
            "colorbar": {
             "outlinewidth": 0,
             "ticks": ""
            },
            "colorscale": [
             [
              0.0,
              "#0d0887"
             ],
             [
              0.1111111111111111,
              "#46039f"
             ],
             [
              0.2222222222222222,
              "#7201a8"
             ],
             [
              0.3333333333333333,
              "#9c179e"
             ],
             [
              0.4444444444444444,
              "#bd3786"
             ],
             [
              0.5555555555555556,
              "#d8576b"
             ],
             [
              0.6666666666666666,
              "#ed7953"
             ],
             [
              0.7777777777777778,
              "#fb9f3a"
             ],
             [
              0.8888888888888888,
              "#fdca26"
             ],
             [
              1.0,
              "#f0f921"
             ]
            ]
           }
          ],
          "choropleth": [
           {
            "type": "choropleth",
            "colorbar": {
             "outlinewidth": 0,
             "ticks": ""
            }
           }
          ],
          "histogram2d": [
           {
            "type": "histogram2d",
            "colorbar": {
             "outlinewidth": 0,
             "ticks": ""
            },
            "colorscale": [
             [
              0.0,
              "#0d0887"
             ],
             [
              0.1111111111111111,
              "#46039f"
             ],
             [
              0.2222222222222222,
              "#7201a8"
             ],
             [
              0.3333333333333333,
              "#9c179e"
             ],
             [
              0.4444444444444444,
              "#bd3786"
             ],
             [
              0.5555555555555556,
              "#d8576b"
             ],
             [
              0.6666666666666666,
              "#ed7953"
             ],
             [
              0.7777777777777778,
              "#fb9f3a"
             ],
             [
              0.8888888888888888,
              "#fdca26"
             ],
             [
              1.0,
              "#f0f921"
             ]
            ]
           }
          ],
          "heatmap": [
           {
            "type": "heatmap",
            "colorbar": {
             "outlinewidth": 0,
             "ticks": ""
            },
            "colorscale": [
             [
              0.0,
              "#0d0887"
             ],
             [
              0.1111111111111111,
              "#46039f"
             ],
             [
              0.2222222222222222,
              "#7201a8"
             ],
             [
              0.3333333333333333,
              "#9c179e"
             ],
             [
              0.4444444444444444,
              "#bd3786"
             ],
             [
              0.5555555555555556,
              "#d8576b"
             ],
             [
              0.6666666666666666,
              "#ed7953"
             ],
             [
              0.7777777777777778,
              "#fb9f3a"
             ],
             [
              0.8888888888888888,
              "#fdca26"
             ],
             [
              1.0,
              "#f0f921"
             ]
            ]
           }
          ],
          "heatmapgl": [
           {
            "type": "heatmapgl",
            "colorbar": {
             "outlinewidth": 0,
             "ticks": ""
            },
            "colorscale": [
             [
              0.0,
              "#0d0887"
             ],
             [
              0.1111111111111111,
              "#46039f"
             ],
             [
              0.2222222222222222,
              "#7201a8"
             ],
             [
              0.3333333333333333,
              "#9c179e"
             ],
             [
              0.4444444444444444,
              "#bd3786"
             ],
             [
              0.5555555555555556,
              "#d8576b"
             ],
             [
              0.6666666666666666,
              "#ed7953"
             ],
             [
              0.7777777777777778,
              "#fb9f3a"
             ],
             [
              0.8888888888888888,
              "#fdca26"
             ],
             [
              1.0,
              "#f0f921"
             ]
            ]
           }
          ],
          "contourcarpet": [
           {
            "type": "contourcarpet",
            "colorbar": {
             "outlinewidth": 0,
             "ticks": ""
            }
           }
          ],
          "contour": [
           {
            "type": "contour",
            "colorbar": {
             "outlinewidth": 0,
             "ticks": ""
            },
            "colorscale": [
             [
              0.0,
              "#0d0887"
             ],
             [
              0.1111111111111111,
              "#46039f"
             ],
             [
              0.2222222222222222,
              "#7201a8"
             ],
             [
              0.3333333333333333,
              "#9c179e"
             ],
             [
              0.4444444444444444,
              "#bd3786"
             ],
             [
              0.5555555555555556,
              "#d8576b"
             ],
             [
              0.6666666666666666,
              "#ed7953"
             ],
             [
              0.7777777777777778,
              "#fb9f3a"
             ],
             [
              0.8888888888888888,
              "#fdca26"
             ],
             [
              1.0,
              "#f0f921"
             ]
            ]
           }
          ],
          "surface": [
           {
            "type": "surface",
            "colorbar": {
             "outlinewidth": 0,
             "ticks": ""
            },
            "colorscale": [
             [
              0.0,
              "#0d0887"
             ],
             [
              0.1111111111111111,
              "#46039f"
             ],
             [
              0.2222222222222222,
              "#7201a8"
             ],
             [
              0.3333333333333333,
              "#9c179e"
             ],
             [
              0.4444444444444444,
              "#bd3786"
             ],
             [
              0.5555555555555556,
              "#d8576b"
             ],
             [
              0.6666666666666666,
              "#ed7953"
             ],
             [
              0.7777777777777778,
              "#fb9f3a"
             ],
             [
              0.8888888888888888,
              "#fdca26"
             ],
             [
              1.0,
              "#f0f921"
             ]
            ]
           }
          ],
          "mesh3d": [
           {
            "type": "mesh3d",
            "colorbar": {
             "outlinewidth": 0,
             "ticks": ""
            }
           }
          ],
          "scatter": [
           {
            "marker": {
             "line": {
              "color": "#283442"
             }
            },
            "type": "scatter"
           }
          ],
          "parcoords": [
           {
            "type": "parcoords",
            "line": {
             "colorbar": {
              "outlinewidth": 0,
              "ticks": ""
             }
            }
           }
          ],
          "scatterpolargl": [
           {
            "type": "scatterpolargl",
            "marker": {
             "colorbar": {
              "outlinewidth": 0,
              "ticks": ""
             }
            }
           }
          ],
          "bar": [
           {
            "error_x": {
             "color": "#f2f5fa"
            },
            "error_y": {
             "color": "#f2f5fa"
            },
            "marker": {
             "line": {
              "color": "rgb(17,17,17)",
              "width": 0.5
             },
             "pattern": {
              "fillmode": "overlay",
              "size": 10,
              "solidity": 0.2
             }
            },
            "type": "bar"
           }
          ],
          "scattergeo": [
           {
            "type": "scattergeo",
            "marker": {
             "colorbar": {
              "outlinewidth": 0,
              "ticks": ""
             }
            }
           }
          ],
          "scatterpolar": [
           {
            "type": "scatterpolar",
            "marker": {
             "colorbar": {
              "outlinewidth": 0,
              "ticks": ""
             }
            }
           }
          ],
          "histogram": [
           {
            "marker": {
             "pattern": {
              "fillmode": "overlay",
              "size": 10,
              "solidity": 0.2
             }
            },
            "type": "histogram"
           }
          ],
          "scattergl": [
           {
            "marker": {
             "line": {
              "color": "#283442"
             }
            },
            "type": "scattergl"
           }
          ],
          "scatter3d": [
           {
            "type": "scatter3d",
            "line": {
             "colorbar": {
              "outlinewidth": 0,
              "ticks": ""
             }
            },
            "marker": {
             "colorbar": {
              "outlinewidth": 0,
              "ticks": ""
             }
            }
           }
          ],
          "scattermapbox": [
           {
            "type": "scattermapbox",
            "marker": {
             "colorbar": {
              "outlinewidth": 0,
              "ticks": ""
             }
            }
           }
          ],
          "scatterternary": [
           {
            "type": "scatterternary",
            "marker": {
             "colorbar": {
              "outlinewidth": 0,
              "ticks": ""
             }
            }
           }
          ],
          "scattercarpet": [
           {
            "type": "scattercarpet",
            "marker": {
             "colorbar": {
              "outlinewidth": 0,
              "ticks": ""
             }
            }
           }
          ],
          "carpet": [
           {
            "aaxis": {
             "endlinecolor": "#A2B1C6",
             "gridcolor": "#506784",
             "linecolor": "#506784",
             "minorgridcolor": "#506784",
             "startlinecolor": "#A2B1C6"
            },
            "baxis": {
             "endlinecolor": "#A2B1C6",
             "gridcolor": "#506784",
             "linecolor": "#506784",
             "minorgridcolor": "#506784",
             "startlinecolor": "#A2B1C6"
            },
            "type": "carpet"
           }
          ],
          "table": [
           {
            "cells": {
             "fill": {
              "color": "#506784"
             },
             "line": {
              "color": "rgb(17,17,17)"
             }
            },
            "header": {
             "fill": {
              "color": "#2a3f5f"
             },
             "line": {
              "color": "rgb(17,17,17)"
             }
            },
            "type": "table"
           }
          ],
          "barpolar": [
           {
            "marker": {
             "line": {
              "color": "rgb(17,17,17)",
              "width": 0.5
             },
             "pattern": {
              "fillmode": "overlay",
              "size": 10,
              "solidity": 0.2
             }
            },
            "type": "barpolar"
           }
          ],
          "pie": [
           {
            "automargin": true,
            "type": "pie"
           }
          ]
         },
         "layout": {
          "autotypenumbers": "strict",
          "colorway": [
           "#636efa",
           "#EF553B",
           "#00cc96",
           "#ab63fa",
           "#FFA15A",
           "#19d3f3",
           "#FF6692",
           "#B6E880",
           "#FF97FF",
           "#FECB52"
          ],
          "font": {
           "color": "#f2f5fa"
          },
          "hovermode": "closest",
          "hoverlabel": {
           "align": "left"
          },
          "paper_bgcolor": "rgb(17,17,17)",
          "plot_bgcolor": "rgb(17,17,17)",
          "polar": {
           "bgcolor": "rgb(17,17,17)",
           "angularaxis": {
            "gridcolor": "#506784",
            "linecolor": "#506784",
            "ticks": ""
           },
           "radialaxis": {
            "gridcolor": "#506784",
            "linecolor": "#506784",
            "ticks": ""
           }
          },
          "ternary": {
           "bgcolor": "rgb(17,17,17)",
           "aaxis": {
            "gridcolor": "#506784",
            "linecolor": "#506784",
            "ticks": ""
           },
           "baxis": {
            "gridcolor": "#506784",
            "linecolor": "#506784",
            "ticks": ""
           },
           "caxis": {
            "gridcolor": "#506784",
            "linecolor": "#506784",
            "ticks": ""
           }
          },
          "coloraxis": {
           "colorbar": {
            "outlinewidth": 0,
            "ticks": ""
           }
          },
          "colorscale": {
           "sequential": [
            [
             0.0,
             "#0d0887"
            ],
            [
             0.1111111111111111,
             "#46039f"
            ],
            [
             0.2222222222222222,
             "#7201a8"
            ],
            [
             0.3333333333333333,
             "#9c179e"
            ],
            [
             0.4444444444444444,
             "#bd3786"
            ],
            [
             0.5555555555555556,
             "#d8576b"
            ],
            [
             0.6666666666666666,
             "#ed7953"
            ],
            [
             0.7777777777777778,
             "#fb9f3a"
            ],
            [
             0.8888888888888888,
             "#fdca26"
            ],
            [
             1.0,
             "#f0f921"
            ]
           ],
           "sequentialminus": [
            [
             0.0,
             "#0d0887"
            ],
            [
             0.1111111111111111,
             "#46039f"
            ],
            [
             0.2222222222222222,
             "#7201a8"
            ],
            [
             0.3333333333333333,
             "#9c179e"
            ],
            [
             0.4444444444444444,
             "#bd3786"
            ],
            [
             0.5555555555555556,
             "#d8576b"
            ],
            [
             0.6666666666666666,
             "#ed7953"
            ],
            [
             0.7777777777777778,
             "#fb9f3a"
            ],
            [
             0.8888888888888888,
             "#fdca26"
            ],
            [
             1.0,
             "#f0f921"
            ]
           ],
           "diverging": [
            [
             0,
             "#8e0152"
            ],
            [
             0.1,
             "#c51b7d"
            ],
            [
             0.2,
             "#de77ae"
            ],
            [
             0.3,
             "#f1b6da"
            ],
            [
             0.4,
             "#fde0ef"
            ],
            [
             0.5,
             "#f7f7f7"
            ],
            [
             0.6,
             "#e6f5d0"
            ],
            [
             0.7,
             "#b8e186"
            ],
            [
             0.8,
             "#7fbc41"
            ],
            [
             0.9,
             "#4d9221"
            ],
            [
             1,
             "#276419"
            ]
           ]
          },
          "xaxis": {
           "gridcolor": "#283442",
           "linecolor": "#506784",
           "ticks": "",
           "title": {
            "standoff": 15
           },
           "zerolinecolor": "#283442",
           "automargin": true,
           "zerolinewidth": 2
          },
          "yaxis": {
           "gridcolor": "#283442",
           "linecolor": "#506784",
           "ticks": "",
           "title": {
            "standoff": 15
           },
           "zerolinecolor": "#283442",
           "automargin": true,
           "zerolinewidth": 2
          },
          "scene": {
           "xaxis": {
            "backgroundcolor": "rgb(17,17,17)",
            "gridcolor": "#506784",
            "linecolor": "#506784",
            "showbackground": true,
            "ticks": "",
            "zerolinecolor": "#C8D4E3",
            "gridwidth": 2
           },
           "yaxis": {
            "backgroundcolor": "rgb(17,17,17)",
            "gridcolor": "#506784",
            "linecolor": "#506784",
            "showbackground": true,
            "ticks": "",
            "zerolinecolor": "#C8D4E3",
            "gridwidth": 2
           },
           "zaxis": {
            "backgroundcolor": "rgb(17,17,17)",
            "gridcolor": "#506784",
            "linecolor": "#506784",
            "showbackground": true,
            "ticks": "",
            "zerolinecolor": "#C8D4E3",
            "gridwidth": 2
           }
          },
          "shapedefaults": {
           "line": {
            "color": "#f2f5fa"
           }
          },
          "annotationdefaults": {
           "arrowcolor": "#f2f5fa",
           "arrowhead": 0,
           "arrowwidth": 1
          },
          "geo": {
           "bgcolor": "rgb(17,17,17)",
           "landcolor": "rgb(17,17,17)",
           "subunitcolor": "#506784",
           "showland": true,
           "showlakes": true,
           "lakecolor": "rgb(17,17,17)"
          },
          "title": {
           "x": 0.05
          },
          "updatemenudefaults": {
           "bgcolor": "#506784",
           "borderwidth": 0
          },
          "sliderdefaults": {
           "bgcolor": "#C8D4E3",
           "borderwidth": 1,
           "bordercolor": "rgb(17,17,17)",
           "tickwidth": 0
          },
          "mapbox": {
           "style": "dark"
          }
         }
        },
        "legend": {
         "tracegroupgap": 0
        },
        "title": {
         "text": "Job Families Overview"
        }
       },
       "config": {
        "plotlyServerURL": "https://plot.ly"
       }
      },
      "text/html": "<div>                            <div id=\"ff247027-a3af-4266-a8ee-4d9f4445c5a8\" class=\"plotly-graph-div\" style=\"height:525px; width:100%;\"></div>            <script type=\"text/javascript\">                require([\"plotly\"], function(Plotly) {                    window.PLOTLYENV=window.PLOTLYENV || {};                                    if (document.getElementById(\"ff247027-a3af-4266-a8ee-4d9f4445c5a8\")) {                    Plotly.newPlot(                        \"ff247027-a3af-4266-a8ee-4d9f4445c5a8\",                        [{\"domain\":{\"x\":[0.0,1.0],\"y\":[0.0,1.0]},\"hovertemplate\":\"job_title=%{label}\\u003cextra\\u003e\\u003c\\u002fextra\\u003e\",\"labels\":[\"Data Science Consultant\",\"Data Scientist\",\"Head of Data Science\",\"Head of Data\",\"Machine Learning Engineer\",\"Data Analytics Manager\",\"Research Scientist\",\"Data Analyst\",\"Data Engineer\",\"Data Science Engineer\",\"Manager Data Science\",\"Data Scientist\",\"Data Scientist\",\"Data Scientist\",\"Data Science Consultant\",\"Data Engineering Manager\",\"Data Engineer\",\"Data Analyst\",\"Data Analyst\",\"Data Scientist\",\"AI Scientist\",\"3D Computer Vision Researcher\",\"ML Engineer\",\"Applied Data Scientist\",\"Machine Learning Engineer\",\"Director of Data Science\",\"Data Engineer\",\"Data Analytics Engineer\",\"Research Scientist\",\"Machine Learning Engineer\",\"Data Analyst\",\"Data Analyst\",\"Data Analyst\",\"Machine Learning Engineer\",\"Data Engineer\",\"Data Analytics Engineer\",\"Lead Data Analyst\",\"Data Analyst\",\"Data Scientist\",\"BI Data Analyst\",\"Data Scientist\",\"Head of Data\",\"BI Data Analyst\",\"Data Engineering Manager\",\"Machine Learning Scientist\",\"Data Science Consultant\",\"Machine Learning Infrastructure Engineer\",\"Marketing Data Analyst\",\"Lead Data Engineer\",\"Director of Data Engineering\",\"Machine Learning Engineer\",\"Data Engineer\",\"Data Engineer\",\"Data Engineer\",\"Research Scientist\",\"Data Analyst\",\"Data Engineer\",\"Data Engineer\",\"BI Data Analyst\",\"Data Engineer\",\"ML Engineer\",\"Computer Vision Software Engineer\",\"Computer Vision Software Engineer\",\"Financial Data Analyst\",\"Data Scientist\",\"Cloud Data Engineer\",\"Data Scientist\",\"Lead Data Engineer\",\"Data Engineer\",\"Cloud Data Engineer\",\"Data Scientist\",\"Data Engineer\",\"Data Engineering Manager\",\"Data Analyst\",\"Data Scientist\",\"Research Scientist\",\"Data Scientist\",\"Data Engineer\",\"Data Analyst\",\"Data Engineer\",\"Principal Data Analyst\",\"Data Engineer\",\"Data Engineer\",\"Data Scientist\",\"Data Engineer\",\"Data Analyst\",\"Big Data Architect\",\"Data Scientist\",\"Data Analyst\",\"Data Scientist\",\"Data Engineer\",\"Research Scientist\",\"Lead Data Scientist\",\"Research Scientist\",\"Machine Learning Scientist\",\"Head of Data Science\",\"Data Architect\",\"Data Analyst\",\"Big Data Engineer\",\"Director of Data Engineering\",\"ML Engineer\",\"Data Engineer\",\"Data Scientist\",\"Data Engineer\",\"Machine Learning Engineer\",\"Data Engineer\",\"Research Scientist\",\"Data Engineer\",\"Machine Learning Engineer\",\"Data Scientist\",\"AI Scientist\",\"Data Scientist\",\"Data Scientist\",\"Data Scientist\",\"Machine Learning Engineer\",\"Data Science Consultant\",\"Staff Data Scientist\",\"Data Analyst\",\"Data Engineer\",\"Data Engineer\",\"Data Engineer\",\"Data Engineer\",\"Lead Data Engineer\",\"Data Scientist\",\"Machine Learning Engineer\",\"Data Scientist\",\"Data Analyst\",\"Lead Data Scientist\",\"Director of Data Science\",\"Big Data Engineer\",\"Data Analyst\",\"Data Scientist\",\"Data Scientist\",\"Machine Learning Engineer\",\"Data Science Manager\",\"Machine Learning Engineer\",\"BI Data Analyst\",\"Data Scientist\",\"Research Scientist\",\"Data Science Manager\",\"Business Data Analyst\",\"Machine Learning Engineer\",\"Lead Data Engineer\",\"Data Scientist\",\"Data Scientist\",\"Data Science Consultant\",\"Data Analytics Engineer\",\"Data Engineer\",\"Data Scientist\",\"Lead Data Analyst\",\"Data Engineer\",\"Data Scientist\",\"Big Data Engineer\",\"Data Scientist\",\"Machine Learning Engineer\",\"Data Scientist\",\"Data Scientist\",\"Data Science Consultant\",\"Data Scientist\",\"Machine Learning Infrastructure Engineer\",\"Data Scientist\",\"Data Analyst\",\"Principal Data Scientist\",\"Machine Learning Scientist\",\"Data Scientist\",\"Data Scientist\",\"Data Scientist\",\"Machine Learning Engineer\",\"Data Analyst\",\"Data Engineer\",\"Big Data Engineer\",\"Machine Learning Engineer\",\"Data Science Consultant\",\"Lead Data Engineer\",\"Computer Vision Engineer\",\"Data Scientist\",\"Machine Learning Engineer\",\"Product Data Analyst\",\"Data Engineer\",\"BI Data Analyst\",\"Data Engineer\",\"Research Scientist\",\"Machine Learning Engineer\",\"Data Analytics Manager\",\"Data Engineer\",\"Director of Data Science\",\"Machine Learning Engineer\",\"AI Scientist\",\"Data Scientist\",\"Research Scientist\",\"Data Science Engineer\",\"Principal Data Engineer\",\"Data Scientist\",\"Data Engineer\",\"Big Data Engineer\",\"Data Scientist\",\"Principal Data Engineer\",\"Data Scientist\",\"Data Scientist\",\"Data Scientist\",\"Data Engineer\",\"Data Analytics Manager\",\"Data Scientist\",\"Data Scientist\",\"Finance Data Analyst\",\"Machine Learning Scientist\",\"Data Engineer\",\"Machine Learning Engineer\",\"Data Science Manager\",\"Big Data Engineer\",\"Computer Vision Engineer\",\"Data Scientist\",\"Computer Vision Engineer\",\"Business Data Analyst\",\"Principal Data Scientist\",\"Principal Data Scientist\",\"Data Scientist\",\"Data Scientist\",\"Data Scientist\",\"AI Scientist\",\"Data Scientist\",\"Data Scientist\",\"Data Scientist\",\"Principal Data Scientist\",\"Lead Data Analyst\",\"AI Scientist\",\"Data Analyst\",\"Data Analyst\",\"Data Scientist\",\"Data Engineer\",\"Data Science Manager\",\"Data Scientist\",\"Data Scientist\",\"Data Engineer\",\"Machine Learning Engineer\",\"Director of Data Science\",\"Data Scientist\",\"Applied Machine Learning Scientist\",\"Data Engineer\",\"Data Specialist\",\"Data Scientist\",\"Principal Data Scientist\",\"Data Scientist\",\"Business Data Analyst\",\"Data Science Manager\"],\"legendgroup\":\"\",\"name\":\"\",\"showlegend\":true,\"type\":\"pie\"}],                        {\"template\":{\"data\":{\"histogram2dcontour\":[{\"type\":\"histogram2dcontour\",\"colorbar\":{\"outlinewidth\":0,\"ticks\":\"\"},\"colorscale\":[[0.0,\"#0d0887\"],[0.1111111111111111,\"#46039f\"],[0.2222222222222222,\"#7201a8\"],[0.3333333333333333,\"#9c179e\"],[0.4444444444444444,\"#bd3786\"],[0.5555555555555556,\"#d8576b\"],[0.6666666666666666,\"#ed7953\"],[0.7777777777777778,\"#fb9f3a\"],[0.8888888888888888,\"#fdca26\"],[1.0,\"#f0f921\"]]}],\"choropleth\":[{\"type\":\"choropleth\",\"colorbar\":{\"outlinewidth\":0,\"ticks\":\"\"}}],\"histogram2d\":[{\"type\":\"histogram2d\",\"colorbar\":{\"outlinewidth\":0,\"ticks\":\"\"},\"colorscale\":[[0.0,\"#0d0887\"],[0.1111111111111111,\"#46039f\"],[0.2222222222222222,\"#7201a8\"],[0.3333333333333333,\"#9c179e\"],[0.4444444444444444,\"#bd3786\"],[0.5555555555555556,\"#d8576b\"],[0.6666666666666666,\"#ed7953\"],[0.7777777777777778,\"#fb9f3a\"],[0.8888888888888888,\"#fdca26\"],[1.0,\"#f0f921\"]]}],\"heatmap\":[{\"type\":\"heatmap\",\"colorbar\":{\"outlinewidth\":0,\"ticks\":\"\"},\"colorscale\":[[0.0,\"#0d0887\"],[0.1111111111111111,\"#46039f\"],[0.2222222222222222,\"#7201a8\"],[0.3333333333333333,\"#9c179e\"],[0.4444444444444444,\"#bd3786\"],[0.5555555555555556,\"#d8576b\"],[0.6666666666666666,\"#ed7953\"],[0.7777777777777778,\"#fb9f3a\"],[0.8888888888888888,\"#fdca26\"],[1.0,\"#f0f921\"]]}],\"heatmapgl\":[{\"type\":\"heatmapgl\",\"colorbar\":{\"outlinewidth\":0,\"ticks\":\"\"},\"colorscale\":[[0.0,\"#0d0887\"],[0.1111111111111111,\"#46039f\"],[0.2222222222222222,\"#7201a8\"],[0.3333333333333333,\"#9c179e\"],[0.4444444444444444,\"#bd3786\"],[0.5555555555555556,\"#d8576b\"],[0.6666666666666666,\"#ed7953\"],[0.7777777777777778,\"#fb9f3a\"],[0.8888888888888888,\"#fdca26\"],[1.0,\"#f0f921\"]]}],\"contourcarpet\":[{\"type\":\"contourcarpet\",\"colorbar\":{\"outlinewidth\":0,\"ticks\":\"\"}}],\"contour\":[{\"type\":\"contour\",\"colorbar\":{\"outlinewidth\":0,\"ticks\":\"\"},\"colorscale\":[[0.0,\"#0d0887\"],[0.1111111111111111,\"#46039f\"],[0.2222222222222222,\"#7201a8\"],[0.3333333333333333,\"#9c179e\"],[0.4444444444444444,\"#bd3786\"],[0.5555555555555556,\"#d8576b\"],[0.6666666666666666,\"#ed7953\"],[0.7777777777777778,\"#fb9f3a\"],[0.8888888888888888,\"#fdca26\"],[1.0,\"#f0f921\"]]}],\"surface\":[{\"type\":\"surface\",\"colorbar\":{\"outlinewidth\":0,\"ticks\":\"\"},\"colorscale\":[[0.0,\"#0d0887\"],[0.1111111111111111,\"#46039f\"],[0.2222222222222222,\"#7201a8\"],[0.3333333333333333,\"#9c179e\"],[0.4444444444444444,\"#bd3786\"],[0.5555555555555556,\"#d8576b\"],[0.6666666666666666,\"#ed7953\"],[0.7777777777777778,\"#fb9f3a\"],[0.8888888888888888,\"#fdca26\"],[1.0,\"#f0f921\"]]}],\"mesh3d\":[{\"type\":\"mesh3d\",\"colorbar\":{\"outlinewidth\":0,\"ticks\":\"\"}}],\"scatter\":[{\"marker\":{\"line\":{\"color\":\"#283442\"}},\"type\":\"scatter\"}],\"parcoords\":[{\"type\":\"parcoords\",\"line\":{\"colorbar\":{\"outlinewidth\":0,\"ticks\":\"\"}}}],\"scatterpolargl\":[{\"type\":\"scatterpolargl\",\"marker\":{\"colorbar\":{\"outlinewidth\":0,\"ticks\":\"\"}}}],\"bar\":[{\"error_x\":{\"color\":\"#f2f5fa\"},\"error_y\":{\"color\":\"#f2f5fa\"},\"marker\":{\"line\":{\"color\":\"rgb(17,17,17)\",\"width\":0.5},\"pattern\":{\"fillmode\":\"overlay\",\"size\":10,\"solidity\":0.2}},\"type\":\"bar\"}],\"scattergeo\":[{\"type\":\"scattergeo\",\"marker\":{\"colorbar\":{\"outlinewidth\":0,\"ticks\":\"\"}}}],\"scatterpolar\":[{\"type\":\"scatterpolar\",\"marker\":{\"colorbar\":{\"outlinewidth\":0,\"ticks\":\"\"}}}],\"histogram\":[{\"marker\":{\"pattern\":{\"fillmode\":\"overlay\",\"size\":10,\"solidity\":0.2}},\"type\":\"histogram\"}],\"scattergl\":[{\"marker\":{\"line\":{\"color\":\"#283442\"}},\"type\":\"scattergl\"}],\"scatter3d\":[{\"type\":\"scatter3d\",\"line\":{\"colorbar\":{\"outlinewidth\":0,\"ticks\":\"\"}},\"marker\":{\"colorbar\":{\"outlinewidth\":0,\"ticks\":\"\"}}}],\"scattermapbox\":[{\"type\":\"scattermapbox\",\"marker\":{\"colorbar\":{\"outlinewidth\":0,\"ticks\":\"\"}}}],\"scatterternary\":[{\"type\":\"scatterternary\",\"marker\":{\"colorbar\":{\"outlinewidth\":0,\"ticks\":\"\"}}}],\"scattercarpet\":[{\"type\":\"scattercarpet\",\"marker\":{\"colorbar\":{\"outlinewidth\":0,\"ticks\":\"\"}}}],\"carpet\":[{\"aaxis\":{\"endlinecolor\":\"#A2B1C6\",\"gridcolor\":\"#506784\",\"linecolor\":\"#506784\",\"minorgridcolor\":\"#506784\",\"startlinecolor\":\"#A2B1C6\"},\"baxis\":{\"endlinecolor\":\"#A2B1C6\",\"gridcolor\":\"#506784\",\"linecolor\":\"#506784\",\"minorgridcolor\":\"#506784\",\"startlinecolor\":\"#A2B1C6\"},\"type\":\"carpet\"}],\"table\":[{\"cells\":{\"fill\":{\"color\":\"#506784\"},\"line\":{\"color\":\"rgb(17,17,17)\"}},\"header\":{\"fill\":{\"color\":\"#2a3f5f\"},\"line\":{\"color\":\"rgb(17,17,17)\"}},\"type\":\"table\"}],\"barpolar\":[{\"marker\":{\"line\":{\"color\":\"rgb(17,17,17)\",\"width\":0.5},\"pattern\":{\"fillmode\":\"overlay\",\"size\":10,\"solidity\":0.2}},\"type\":\"barpolar\"}],\"pie\":[{\"automargin\":true,\"type\":\"pie\"}]},\"layout\":{\"autotypenumbers\":\"strict\",\"colorway\":[\"#636efa\",\"#EF553B\",\"#00cc96\",\"#ab63fa\",\"#FFA15A\",\"#19d3f3\",\"#FF6692\",\"#B6E880\",\"#FF97FF\",\"#FECB52\"],\"font\":{\"color\":\"#f2f5fa\"},\"hovermode\":\"closest\",\"hoverlabel\":{\"align\":\"left\"},\"paper_bgcolor\":\"rgb(17,17,17)\",\"plot_bgcolor\":\"rgb(17,17,17)\",\"polar\":{\"bgcolor\":\"rgb(17,17,17)\",\"angularaxis\":{\"gridcolor\":\"#506784\",\"linecolor\":\"#506784\",\"ticks\":\"\"},\"radialaxis\":{\"gridcolor\":\"#506784\",\"linecolor\":\"#506784\",\"ticks\":\"\"}},\"ternary\":{\"bgcolor\":\"rgb(17,17,17)\",\"aaxis\":{\"gridcolor\":\"#506784\",\"linecolor\":\"#506784\",\"ticks\":\"\"},\"baxis\":{\"gridcolor\":\"#506784\",\"linecolor\":\"#506784\",\"ticks\":\"\"},\"caxis\":{\"gridcolor\":\"#506784\",\"linecolor\":\"#506784\",\"ticks\":\"\"}},\"coloraxis\":{\"colorbar\":{\"outlinewidth\":0,\"ticks\":\"\"}},\"colorscale\":{\"sequential\":[[0.0,\"#0d0887\"],[0.1111111111111111,\"#46039f\"],[0.2222222222222222,\"#7201a8\"],[0.3333333333333333,\"#9c179e\"],[0.4444444444444444,\"#bd3786\"],[0.5555555555555556,\"#d8576b\"],[0.6666666666666666,\"#ed7953\"],[0.7777777777777778,\"#fb9f3a\"],[0.8888888888888888,\"#fdca26\"],[1.0,\"#f0f921\"]],\"sequentialminus\":[[0.0,\"#0d0887\"],[0.1111111111111111,\"#46039f\"],[0.2222222222222222,\"#7201a8\"],[0.3333333333333333,\"#9c179e\"],[0.4444444444444444,\"#bd3786\"],[0.5555555555555556,\"#d8576b\"],[0.6666666666666666,\"#ed7953\"],[0.7777777777777778,\"#fb9f3a\"],[0.8888888888888888,\"#fdca26\"],[1.0,\"#f0f921\"]],\"diverging\":[[0,\"#8e0152\"],[0.1,\"#c51b7d\"],[0.2,\"#de77ae\"],[0.3,\"#f1b6da\"],[0.4,\"#fde0ef\"],[0.5,\"#f7f7f7\"],[0.6,\"#e6f5d0\"],[0.7,\"#b8e186\"],[0.8,\"#7fbc41\"],[0.9,\"#4d9221\"],[1,\"#276419\"]]},\"xaxis\":{\"gridcolor\":\"#283442\",\"linecolor\":\"#506784\",\"ticks\":\"\",\"title\":{\"standoff\":15},\"zerolinecolor\":\"#283442\",\"automargin\":true,\"zerolinewidth\":2},\"yaxis\":{\"gridcolor\":\"#283442\",\"linecolor\":\"#506784\",\"ticks\":\"\",\"title\":{\"standoff\":15},\"zerolinecolor\":\"#283442\",\"automargin\":true,\"zerolinewidth\":2},\"scene\":{\"xaxis\":{\"backgroundcolor\":\"rgb(17,17,17)\",\"gridcolor\":\"#506784\",\"linecolor\":\"#506784\",\"showbackground\":true,\"ticks\":\"\",\"zerolinecolor\":\"#C8D4E3\",\"gridwidth\":2},\"yaxis\":{\"backgroundcolor\":\"rgb(17,17,17)\",\"gridcolor\":\"#506784\",\"linecolor\":\"#506784\",\"showbackground\":true,\"ticks\":\"\",\"zerolinecolor\":\"#C8D4E3\",\"gridwidth\":2},\"zaxis\":{\"backgroundcolor\":\"rgb(17,17,17)\",\"gridcolor\":\"#506784\",\"linecolor\":\"#506784\",\"showbackground\":true,\"ticks\":\"\",\"zerolinecolor\":\"#C8D4E3\",\"gridwidth\":2}},\"shapedefaults\":{\"line\":{\"color\":\"#f2f5fa\"}},\"annotationdefaults\":{\"arrowcolor\":\"#f2f5fa\",\"arrowhead\":0,\"arrowwidth\":1},\"geo\":{\"bgcolor\":\"rgb(17,17,17)\",\"landcolor\":\"rgb(17,17,17)\",\"subunitcolor\":\"#506784\",\"showland\":true,\"showlakes\":true,\"lakecolor\":\"rgb(17,17,17)\"},\"title\":{\"x\":0.05},\"updatemenudefaults\":{\"bgcolor\":\"#506784\",\"borderwidth\":0},\"sliderdefaults\":{\"bgcolor\":\"#C8D4E3\",\"borderwidth\":1,\"bordercolor\":\"rgb(17,17,17)\",\"tickwidth\":0},\"mapbox\":{\"style\":\"dark\"}}},\"legend\":{\"tracegroupgap\":0},\"title\":{\"text\":\"Job Families Overview\"}},                        {\"responsive\": true}                    ).then(function(){\n                            \nvar gd = document.getElementById('ff247027-a3af-4266-a8ee-4d9f4445c5a8');\nvar x = new MutationObserver(function (mutations, observer) {{\n        var display = window.getComputedStyle(gd).display;\n        if (!display || display === 'none') {{\n            console.log([gd, 'removed!']);\n            Plotly.purge(gd);\n            observer.disconnect();\n        }}\n}});\n\n// Listen for the removal of the full notebook cells\nvar notebookContainer = gd.closest('#notebook-container');\nif (notebookContainer) {{\n    x.observe(notebookContainer, {childList: true});\n}}\n\n// Listen for the clearing of the current output cell\nvar outputEl = gd.closest('.output');\nif (outputEl) {{\n    x.observe(outputEl, {childList: true});\n}}\n\n                        })                };                });            </script>        </div>"
     },
     "metadata": {},
     "output_type": "display_data"
    },
    {
     "data": {
      "application/vnd.plotly.v1+json": {
       "data": [
        {
         "alignmentgroup": "True",
         "hovertemplate": "skill=%{x}<br>frequency=%{y}<extra></extra>",
         "legendgroup": "",
         "marker": {
          "color": "#636efa",
          "pattern": {
           "shape": ""
          }
         },
         "name": "",
         "offsetgroup": "",
         "orientation": "v",
         "showlegend": false,
         "textposition": "auto",
         "x": [
          "data",
          "engineer",
          "scientist",
          "analyst",
          "machine",
          "learning",
          "science",
          "manager",
          "lead",
          "research",
          "of",
          "principal",
          "big",
          "consultant",
          "vision",
          "director",
          "analytics",
          "computer",
          "engineering",
          "bi",
          "ai",
          "head",
          "ml",
          "business",
          "infrastructure",
          "cloud",
          "architect",
          "applied",
          "software",
          "financial",
          "marketing",
          "finance",
          "product",
          "researcher",
          "specialist",
          "staff",
          "3d"
         ],
         "xaxis": "x",
         "y": [
          194,
          88,
          88,
          36,
          27,
          27,
          21,
          12,
          10,
          10,
          10,
          8,
          7,
          7,
          6,
          6,
          6,
          6,
          5,
          5,
          5,
          4,
          3,
          3,
          2,
          2,
          2,
          2,
          2,
          1,
          1,
          1,
          1,
          1,
          1,
          1,
          1
         ],
         "yaxis": "y",
         "type": "bar"
        }
       ],
       "layout": {
        "template": {
         "data": {
          "histogram2dcontour": [
           {
            "type": "histogram2dcontour",
            "colorbar": {
             "outlinewidth": 0,
             "ticks": ""
            },
            "colorscale": [
             [
              0.0,
              "#0d0887"
             ],
             [
              0.1111111111111111,
              "#46039f"
             ],
             [
              0.2222222222222222,
              "#7201a8"
             ],
             [
              0.3333333333333333,
              "#9c179e"
             ],
             [
              0.4444444444444444,
              "#bd3786"
             ],
             [
              0.5555555555555556,
              "#d8576b"
             ],
             [
              0.6666666666666666,
              "#ed7953"
             ],
             [
              0.7777777777777778,
              "#fb9f3a"
             ],
             [
              0.8888888888888888,
              "#fdca26"
             ],
             [
              1.0,
              "#f0f921"
             ]
            ]
           }
          ],
          "choropleth": [
           {
            "type": "choropleth",
            "colorbar": {
             "outlinewidth": 0,
             "ticks": ""
            }
           }
          ],
          "histogram2d": [
           {
            "type": "histogram2d",
            "colorbar": {
             "outlinewidth": 0,
             "ticks": ""
            },
            "colorscale": [
             [
              0.0,
              "#0d0887"
             ],
             [
              0.1111111111111111,
              "#46039f"
             ],
             [
              0.2222222222222222,
              "#7201a8"
             ],
             [
              0.3333333333333333,
              "#9c179e"
             ],
             [
              0.4444444444444444,
              "#bd3786"
             ],
             [
              0.5555555555555556,
              "#d8576b"
             ],
             [
              0.6666666666666666,
              "#ed7953"
             ],
             [
              0.7777777777777778,
              "#fb9f3a"
             ],
             [
              0.8888888888888888,
              "#fdca26"
             ],
             [
              1.0,
              "#f0f921"
             ]
            ]
           }
          ],
          "heatmap": [
           {
            "type": "heatmap",
            "colorbar": {
             "outlinewidth": 0,
             "ticks": ""
            },
            "colorscale": [
             [
              0.0,
              "#0d0887"
             ],
             [
              0.1111111111111111,
              "#46039f"
             ],
             [
              0.2222222222222222,
              "#7201a8"
             ],
             [
              0.3333333333333333,
              "#9c179e"
             ],
             [
              0.4444444444444444,
              "#bd3786"
             ],
             [
              0.5555555555555556,
              "#d8576b"
             ],
             [
              0.6666666666666666,
              "#ed7953"
             ],
             [
              0.7777777777777778,
              "#fb9f3a"
             ],
             [
              0.8888888888888888,
              "#fdca26"
             ],
             [
              1.0,
              "#f0f921"
             ]
            ]
           }
          ],
          "heatmapgl": [
           {
            "type": "heatmapgl",
            "colorbar": {
             "outlinewidth": 0,
             "ticks": ""
            },
            "colorscale": [
             [
              0.0,
              "#0d0887"
             ],
             [
              0.1111111111111111,
              "#46039f"
             ],
             [
              0.2222222222222222,
              "#7201a8"
             ],
             [
              0.3333333333333333,
              "#9c179e"
             ],
             [
              0.4444444444444444,
              "#bd3786"
             ],
             [
              0.5555555555555556,
              "#d8576b"
             ],
             [
              0.6666666666666666,
              "#ed7953"
             ],
             [
              0.7777777777777778,
              "#fb9f3a"
             ],
             [
              0.8888888888888888,
              "#fdca26"
             ],
             [
              1.0,
              "#f0f921"
             ]
            ]
           }
          ],
          "contourcarpet": [
           {
            "type": "contourcarpet",
            "colorbar": {
             "outlinewidth": 0,
             "ticks": ""
            }
           }
          ],
          "contour": [
           {
            "type": "contour",
            "colorbar": {
             "outlinewidth": 0,
             "ticks": ""
            },
            "colorscale": [
             [
              0.0,
              "#0d0887"
             ],
             [
              0.1111111111111111,
              "#46039f"
             ],
             [
              0.2222222222222222,
              "#7201a8"
             ],
             [
              0.3333333333333333,
              "#9c179e"
             ],
             [
              0.4444444444444444,
              "#bd3786"
             ],
             [
              0.5555555555555556,
              "#d8576b"
             ],
             [
              0.6666666666666666,
              "#ed7953"
             ],
             [
              0.7777777777777778,
              "#fb9f3a"
             ],
             [
              0.8888888888888888,
              "#fdca26"
             ],
             [
              1.0,
              "#f0f921"
             ]
            ]
           }
          ],
          "surface": [
           {
            "type": "surface",
            "colorbar": {
             "outlinewidth": 0,
             "ticks": ""
            },
            "colorscale": [
             [
              0.0,
              "#0d0887"
             ],
             [
              0.1111111111111111,
              "#46039f"
             ],
             [
              0.2222222222222222,
              "#7201a8"
             ],
             [
              0.3333333333333333,
              "#9c179e"
             ],
             [
              0.4444444444444444,
              "#bd3786"
             ],
             [
              0.5555555555555556,
              "#d8576b"
             ],
             [
              0.6666666666666666,
              "#ed7953"
             ],
             [
              0.7777777777777778,
              "#fb9f3a"
             ],
             [
              0.8888888888888888,
              "#fdca26"
             ],
             [
              1.0,
              "#f0f921"
             ]
            ]
           }
          ],
          "mesh3d": [
           {
            "type": "mesh3d",
            "colorbar": {
             "outlinewidth": 0,
             "ticks": ""
            }
           }
          ],
          "scatter": [
           {
            "marker": {
             "line": {
              "color": "#283442"
             }
            },
            "type": "scatter"
           }
          ],
          "parcoords": [
           {
            "type": "parcoords",
            "line": {
             "colorbar": {
              "outlinewidth": 0,
              "ticks": ""
             }
            }
           }
          ],
          "scatterpolargl": [
           {
            "type": "scatterpolargl",
            "marker": {
             "colorbar": {
              "outlinewidth": 0,
              "ticks": ""
             }
            }
           }
          ],
          "bar": [
           {
            "error_x": {
             "color": "#f2f5fa"
            },
            "error_y": {
             "color": "#f2f5fa"
            },
            "marker": {
             "line": {
              "color": "rgb(17,17,17)",
              "width": 0.5
             },
             "pattern": {
              "fillmode": "overlay",
              "size": 10,
              "solidity": 0.2
             }
            },
            "type": "bar"
           }
          ],
          "scattergeo": [
           {
            "type": "scattergeo",
            "marker": {
             "colorbar": {
              "outlinewidth": 0,
              "ticks": ""
             }
            }
           }
          ],
          "scatterpolar": [
           {
            "type": "scatterpolar",
            "marker": {
             "colorbar": {
              "outlinewidth": 0,
              "ticks": ""
             }
            }
           }
          ],
          "histogram": [
           {
            "marker": {
             "pattern": {
              "fillmode": "overlay",
              "size": 10,
              "solidity": 0.2
             }
            },
            "type": "histogram"
           }
          ],
          "scattergl": [
           {
            "marker": {
             "line": {
              "color": "#283442"
             }
            },
            "type": "scattergl"
           }
          ],
          "scatter3d": [
           {
            "type": "scatter3d",
            "line": {
             "colorbar": {
              "outlinewidth": 0,
              "ticks": ""
             }
            },
            "marker": {
             "colorbar": {
              "outlinewidth": 0,
              "ticks": ""
             }
            }
           }
          ],
          "scattermapbox": [
           {
            "type": "scattermapbox",
            "marker": {
             "colorbar": {
              "outlinewidth": 0,
              "ticks": ""
             }
            }
           }
          ],
          "scatterternary": [
           {
            "type": "scatterternary",
            "marker": {
             "colorbar": {
              "outlinewidth": 0,
              "ticks": ""
             }
            }
           }
          ],
          "scattercarpet": [
           {
            "type": "scattercarpet",
            "marker": {
             "colorbar": {
              "outlinewidth": 0,
              "ticks": ""
             }
            }
           }
          ],
          "carpet": [
           {
            "aaxis": {
             "endlinecolor": "#A2B1C6",
             "gridcolor": "#506784",
             "linecolor": "#506784",
             "minorgridcolor": "#506784",
             "startlinecolor": "#A2B1C6"
            },
            "baxis": {
             "endlinecolor": "#A2B1C6",
             "gridcolor": "#506784",
             "linecolor": "#506784",
             "minorgridcolor": "#506784",
             "startlinecolor": "#A2B1C6"
            },
            "type": "carpet"
           }
          ],
          "table": [
           {
            "cells": {
             "fill": {
              "color": "#506784"
             },
             "line": {
              "color": "rgb(17,17,17)"
             }
            },
            "header": {
             "fill": {
              "color": "#2a3f5f"
             },
             "line": {
              "color": "rgb(17,17,17)"
             }
            },
            "type": "table"
           }
          ],
          "barpolar": [
           {
            "marker": {
             "line": {
              "color": "rgb(17,17,17)",
              "width": 0.5
             },
             "pattern": {
              "fillmode": "overlay",
              "size": 10,
              "solidity": 0.2
             }
            },
            "type": "barpolar"
           }
          ],
          "pie": [
           {
            "automargin": true,
            "type": "pie"
           }
          ]
         },
         "layout": {
          "autotypenumbers": "strict",
          "colorway": [
           "#636efa",
           "#EF553B",
           "#00cc96",
           "#ab63fa",
           "#FFA15A",
           "#19d3f3",
           "#FF6692",
           "#B6E880",
           "#FF97FF",
           "#FECB52"
          ],
          "font": {
           "color": "#f2f5fa"
          },
          "hovermode": "closest",
          "hoverlabel": {
           "align": "left"
          },
          "paper_bgcolor": "rgb(17,17,17)",
          "plot_bgcolor": "rgb(17,17,17)",
          "polar": {
           "bgcolor": "rgb(17,17,17)",
           "angularaxis": {
            "gridcolor": "#506784",
            "linecolor": "#506784",
            "ticks": ""
           },
           "radialaxis": {
            "gridcolor": "#506784",
            "linecolor": "#506784",
            "ticks": ""
           }
          },
          "ternary": {
           "bgcolor": "rgb(17,17,17)",
           "aaxis": {
            "gridcolor": "#506784",
            "linecolor": "#506784",
            "ticks": ""
           },
           "baxis": {
            "gridcolor": "#506784",
            "linecolor": "#506784",
            "ticks": ""
           },
           "caxis": {
            "gridcolor": "#506784",
            "linecolor": "#506784",
            "ticks": ""
           }
          },
          "coloraxis": {
           "colorbar": {
            "outlinewidth": 0,
            "ticks": ""
           }
          },
          "colorscale": {
           "sequential": [
            [
             0.0,
             "#0d0887"
            ],
            [
             0.1111111111111111,
             "#46039f"
            ],
            [
             0.2222222222222222,
             "#7201a8"
            ],
            [
             0.3333333333333333,
             "#9c179e"
            ],
            [
             0.4444444444444444,
             "#bd3786"
            ],
            [
             0.5555555555555556,
             "#d8576b"
            ],
            [
             0.6666666666666666,
             "#ed7953"
            ],
            [
             0.7777777777777778,
             "#fb9f3a"
            ],
            [
             0.8888888888888888,
             "#fdca26"
            ],
            [
             1.0,
             "#f0f921"
            ]
           ],
           "sequentialminus": [
            [
             0.0,
             "#0d0887"
            ],
            [
             0.1111111111111111,
             "#46039f"
            ],
            [
             0.2222222222222222,
             "#7201a8"
            ],
            [
             0.3333333333333333,
             "#9c179e"
            ],
            [
             0.4444444444444444,
             "#bd3786"
            ],
            [
             0.5555555555555556,
             "#d8576b"
            ],
            [
             0.6666666666666666,
             "#ed7953"
            ],
            [
             0.7777777777777778,
             "#fb9f3a"
            ],
            [
             0.8888888888888888,
             "#fdca26"
            ],
            [
             1.0,
             "#f0f921"
            ]
           ],
           "diverging": [
            [
             0,
             "#8e0152"
            ],
            [
             0.1,
             "#c51b7d"
            ],
            [
             0.2,
             "#de77ae"
            ],
            [
             0.3,
             "#f1b6da"
            ],
            [
             0.4,
             "#fde0ef"
            ],
            [
             0.5,
             "#f7f7f7"
            ],
            [
             0.6,
             "#e6f5d0"
            ],
            [
             0.7,
             "#b8e186"
            ],
            [
             0.8,
             "#7fbc41"
            ],
            [
             0.9,
             "#4d9221"
            ],
            [
             1,
             "#276419"
            ]
           ]
          },
          "xaxis": {
           "gridcolor": "#283442",
           "linecolor": "#506784",
           "ticks": "",
           "title": {
            "standoff": 15
           },
           "zerolinecolor": "#283442",
           "automargin": true,
           "zerolinewidth": 2
          },
          "yaxis": {
           "gridcolor": "#283442",
           "linecolor": "#506784",
           "ticks": "",
           "title": {
            "standoff": 15
           },
           "zerolinecolor": "#283442",
           "automargin": true,
           "zerolinewidth": 2
          },
          "scene": {
           "xaxis": {
            "backgroundcolor": "rgb(17,17,17)",
            "gridcolor": "#506784",
            "linecolor": "#506784",
            "showbackground": true,
            "ticks": "",
            "zerolinecolor": "#C8D4E3",
            "gridwidth": 2
           },
           "yaxis": {
            "backgroundcolor": "rgb(17,17,17)",
            "gridcolor": "#506784",
            "linecolor": "#506784",
            "showbackground": true,
            "ticks": "",
            "zerolinecolor": "#C8D4E3",
            "gridwidth": 2
           },
           "zaxis": {
            "backgroundcolor": "rgb(17,17,17)",
            "gridcolor": "#506784",
            "linecolor": "#506784",
            "showbackground": true,
            "ticks": "",
            "zerolinecolor": "#C8D4E3",
            "gridwidth": 2
           }
          },
          "shapedefaults": {
           "line": {
            "color": "#f2f5fa"
           }
          },
          "annotationdefaults": {
           "arrowcolor": "#f2f5fa",
           "arrowhead": 0,
           "arrowwidth": 1
          },
          "geo": {
           "bgcolor": "rgb(17,17,17)",
           "landcolor": "rgb(17,17,17)",
           "subunitcolor": "#506784",
           "showland": true,
           "showlakes": true,
           "lakecolor": "rgb(17,17,17)"
          },
          "title": {
           "x": 0.05
          },
          "updatemenudefaults": {
           "bgcolor": "#506784",
           "borderwidth": 0
          },
          "sliderdefaults": {
           "bgcolor": "#C8D4E3",
           "borderwidth": 1,
           "bordercolor": "rgb(17,17,17)",
           "tickwidth": 0
          },
          "mapbox": {
           "style": "dark"
          }
         }
        },
        "xaxis": {
         "anchor": "y",
         "domain": [
          0.0,
          1.0
         ],
         "title": {
          "text": "skill"
         }
        },
        "yaxis": {
         "anchor": "x",
         "domain": [
          0.0,
          1.0
         ],
         "title": {
          "text": "frequency"
         }
        },
        "legend": {
         "tracegroupgap": 0
        },
        "title": {
         "text": "Skill Clusters and Rankings"
        },
        "barmode": "relative"
       },
       "config": {
        "plotlyServerURL": "https://plot.ly"
       }
      },
      "text/html": "<div>                            <div id=\"178ba68a-92d8-463f-8fc3-0f39d5a2b79a\" class=\"plotly-graph-div\" style=\"height:525px; width:100%;\"></div>            <script type=\"text/javascript\">                require([\"plotly\"], function(Plotly) {                    window.PLOTLYENV=window.PLOTLYENV || {};                                    if (document.getElementById(\"178ba68a-92d8-463f-8fc3-0f39d5a2b79a\")) {                    Plotly.newPlot(                        \"178ba68a-92d8-463f-8fc3-0f39d5a2b79a\",                        [{\"alignmentgroup\":\"True\",\"hovertemplate\":\"skill=%{x}\\u003cbr\\u003efrequency=%{y}\\u003cextra\\u003e\\u003c\\u002fextra\\u003e\",\"legendgroup\":\"\",\"marker\":{\"color\":\"#636efa\",\"pattern\":{\"shape\":\"\"}},\"name\":\"\",\"offsetgroup\":\"\",\"orientation\":\"v\",\"showlegend\":false,\"textposition\":\"auto\",\"x\":[\"data\",\"engineer\",\"scientist\",\"analyst\",\"machine\",\"learning\",\"science\",\"manager\",\"lead\",\"research\",\"of\",\"principal\",\"big\",\"consultant\",\"vision\",\"director\",\"analytics\",\"computer\",\"engineering\",\"bi\",\"ai\",\"head\",\"ml\",\"business\",\"infrastructure\",\"cloud\",\"architect\",\"applied\",\"software\",\"financial\",\"marketing\",\"finance\",\"product\",\"researcher\",\"specialist\",\"staff\",\"3d\"],\"xaxis\":\"x\",\"y\":[194,88,88,36,27,27,21,12,10,10,10,8,7,7,6,6,6,6,5,5,5,4,3,3,2,2,2,2,2,1,1,1,1,1,1,1,1],\"yaxis\":\"y\",\"type\":\"bar\"}],                        {\"template\":{\"data\":{\"histogram2dcontour\":[{\"type\":\"histogram2dcontour\",\"colorbar\":{\"outlinewidth\":0,\"ticks\":\"\"},\"colorscale\":[[0.0,\"#0d0887\"],[0.1111111111111111,\"#46039f\"],[0.2222222222222222,\"#7201a8\"],[0.3333333333333333,\"#9c179e\"],[0.4444444444444444,\"#bd3786\"],[0.5555555555555556,\"#d8576b\"],[0.6666666666666666,\"#ed7953\"],[0.7777777777777778,\"#fb9f3a\"],[0.8888888888888888,\"#fdca26\"],[1.0,\"#f0f921\"]]}],\"choropleth\":[{\"type\":\"choropleth\",\"colorbar\":{\"outlinewidth\":0,\"ticks\":\"\"}}],\"histogram2d\":[{\"type\":\"histogram2d\",\"colorbar\":{\"outlinewidth\":0,\"ticks\":\"\"},\"colorscale\":[[0.0,\"#0d0887\"],[0.1111111111111111,\"#46039f\"],[0.2222222222222222,\"#7201a8\"],[0.3333333333333333,\"#9c179e\"],[0.4444444444444444,\"#bd3786\"],[0.5555555555555556,\"#d8576b\"],[0.6666666666666666,\"#ed7953\"],[0.7777777777777778,\"#fb9f3a\"],[0.8888888888888888,\"#fdca26\"],[1.0,\"#f0f921\"]]}],\"heatmap\":[{\"type\":\"heatmap\",\"colorbar\":{\"outlinewidth\":0,\"ticks\":\"\"},\"colorscale\":[[0.0,\"#0d0887\"],[0.1111111111111111,\"#46039f\"],[0.2222222222222222,\"#7201a8\"],[0.3333333333333333,\"#9c179e\"],[0.4444444444444444,\"#bd3786\"],[0.5555555555555556,\"#d8576b\"],[0.6666666666666666,\"#ed7953\"],[0.7777777777777778,\"#fb9f3a\"],[0.8888888888888888,\"#fdca26\"],[1.0,\"#f0f921\"]]}],\"heatmapgl\":[{\"type\":\"heatmapgl\",\"colorbar\":{\"outlinewidth\":0,\"ticks\":\"\"},\"colorscale\":[[0.0,\"#0d0887\"],[0.1111111111111111,\"#46039f\"],[0.2222222222222222,\"#7201a8\"],[0.3333333333333333,\"#9c179e\"],[0.4444444444444444,\"#bd3786\"],[0.5555555555555556,\"#d8576b\"],[0.6666666666666666,\"#ed7953\"],[0.7777777777777778,\"#fb9f3a\"],[0.8888888888888888,\"#fdca26\"],[1.0,\"#f0f921\"]]}],\"contourcarpet\":[{\"type\":\"contourcarpet\",\"colorbar\":{\"outlinewidth\":0,\"ticks\":\"\"}}],\"contour\":[{\"type\":\"contour\",\"colorbar\":{\"outlinewidth\":0,\"ticks\":\"\"},\"colorscale\":[[0.0,\"#0d0887\"],[0.1111111111111111,\"#46039f\"],[0.2222222222222222,\"#7201a8\"],[0.3333333333333333,\"#9c179e\"],[0.4444444444444444,\"#bd3786\"],[0.5555555555555556,\"#d8576b\"],[0.6666666666666666,\"#ed7953\"],[0.7777777777777778,\"#fb9f3a\"],[0.8888888888888888,\"#fdca26\"],[1.0,\"#f0f921\"]]}],\"surface\":[{\"type\":\"surface\",\"colorbar\":{\"outlinewidth\":0,\"ticks\":\"\"},\"colorscale\":[[0.0,\"#0d0887\"],[0.1111111111111111,\"#46039f\"],[0.2222222222222222,\"#7201a8\"],[0.3333333333333333,\"#9c179e\"],[0.4444444444444444,\"#bd3786\"],[0.5555555555555556,\"#d8576b\"],[0.6666666666666666,\"#ed7953\"],[0.7777777777777778,\"#fb9f3a\"],[0.8888888888888888,\"#fdca26\"],[1.0,\"#f0f921\"]]}],\"mesh3d\":[{\"type\":\"mesh3d\",\"colorbar\":{\"outlinewidth\":0,\"ticks\":\"\"}}],\"scatter\":[{\"marker\":{\"line\":{\"color\":\"#283442\"}},\"type\":\"scatter\"}],\"parcoords\":[{\"type\":\"parcoords\",\"line\":{\"colorbar\":{\"outlinewidth\":0,\"ticks\":\"\"}}}],\"scatterpolargl\":[{\"type\":\"scatterpolargl\",\"marker\":{\"colorbar\":{\"outlinewidth\":0,\"ticks\":\"\"}}}],\"bar\":[{\"error_x\":{\"color\":\"#f2f5fa\"},\"error_y\":{\"color\":\"#f2f5fa\"},\"marker\":{\"line\":{\"color\":\"rgb(17,17,17)\",\"width\":0.5},\"pattern\":{\"fillmode\":\"overlay\",\"size\":10,\"solidity\":0.2}},\"type\":\"bar\"}],\"scattergeo\":[{\"type\":\"scattergeo\",\"marker\":{\"colorbar\":{\"outlinewidth\":0,\"ticks\":\"\"}}}],\"scatterpolar\":[{\"type\":\"scatterpolar\",\"marker\":{\"colorbar\":{\"outlinewidth\":0,\"ticks\":\"\"}}}],\"histogram\":[{\"marker\":{\"pattern\":{\"fillmode\":\"overlay\",\"size\":10,\"solidity\":0.2}},\"type\":\"histogram\"}],\"scattergl\":[{\"marker\":{\"line\":{\"color\":\"#283442\"}},\"type\":\"scattergl\"}],\"scatter3d\":[{\"type\":\"scatter3d\",\"line\":{\"colorbar\":{\"outlinewidth\":0,\"ticks\":\"\"}},\"marker\":{\"colorbar\":{\"outlinewidth\":0,\"ticks\":\"\"}}}],\"scattermapbox\":[{\"type\":\"scattermapbox\",\"marker\":{\"colorbar\":{\"outlinewidth\":0,\"ticks\":\"\"}}}],\"scatterternary\":[{\"type\":\"scatterternary\",\"marker\":{\"colorbar\":{\"outlinewidth\":0,\"ticks\":\"\"}}}],\"scattercarpet\":[{\"type\":\"scattercarpet\",\"marker\":{\"colorbar\":{\"outlinewidth\":0,\"ticks\":\"\"}}}],\"carpet\":[{\"aaxis\":{\"endlinecolor\":\"#A2B1C6\",\"gridcolor\":\"#506784\",\"linecolor\":\"#506784\",\"minorgridcolor\":\"#506784\",\"startlinecolor\":\"#A2B1C6\"},\"baxis\":{\"endlinecolor\":\"#A2B1C6\",\"gridcolor\":\"#506784\",\"linecolor\":\"#506784\",\"minorgridcolor\":\"#506784\",\"startlinecolor\":\"#A2B1C6\"},\"type\":\"carpet\"}],\"table\":[{\"cells\":{\"fill\":{\"color\":\"#506784\"},\"line\":{\"color\":\"rgb(17,17,17)\"}},\"header\":{\"fill\":{\"color\":\"#2a3f5f\"},\"line\":{\"color\":\"rgb(17,17,17)\"}},\"type\":\"table\"}],\"barpolar\":[{\"marker\":{\"line\":{\"color\":\"rgb(17,17,17)\",\"width\":0.5},\"pattern\":{\"fillmode\":\"overlay\",\"size\":10,\"solidity\":0.2}},\"type\":\"barpolar\"}],\"pie\":[{\"automargin\":true,\"type\":\"pie\"}]},\"layout\":{\"autotypenumbers\":\"strict\",\"colorway\":[\"#636efa\",\"#EF553B\",\"#00cc96\",\"#ab63fa\",\"#FFA15A\",\"#19d3f3\",\"#FF6692\",\"#B6E880\",\"#FF97FF\",\"#FECB52\"],\"font\":{\"color\":\"#f2f5fa\"},\"hovermode\":\"closest\",\"hoverlabel\":{\"align\":\"left\"},\"paper_bgcolor\":\"rgb(17,17,17)\",\"plot_bgcolor\":\"rgb(17,17,17)\",\"polar\":{\"bgcolor\":\"rgb(17,17,17)\",\"angularaxis\":{\"gridcolor\":\"#506784\",\"linecolor\":\"#506784\",\"ticks\":\"\"},\"radialaxis\":{\"gridcolor\":\"#506784\",\"linecolor\":\"#506784\",\"ticks\":\"\"}},\"ternary\":{\"bgcolor\":\"rgb(17,17,17)\",\"aaxis\":{\"gridcolor\":\"#506784\",\"linecolor\":\"#506784\",\"ticks\":\"\"},\"baxis\":{\"gridcolor\":\"#506784\",\"linecolor\":\"#506784\",\"ticks\":\"\"},\"caxis\":{\"gridcolor\":\"#506784\",\"linecolor\":\"#506784\",\"ticks\":\"\"}},\"coloraxis\":{\"colorbar\":{\"outlinewidth\":0,\"ticks\":\"\"}},\"colorscale\":{\"sequential\":[[0.0,\"#0d0887\"],[0.1111111111111111,\"#46039f\"],[0.2222222222222222,\"#7201a8\"],[0.3333333333333333,\"#9c179e\"],[0.4444444444444444,\"#bd3786\"],[0.5555555555555556,\"#d8576b\"],[0.6666666666666666,\"#ed7953\"],[0.7777777777777778,\"#fb9f3a\"],[0.8888888888888888,\"#fdca26\"],[1.0,\"#f0f921\"]],\"sequentialminus\":[[0.0,\"#0d0887\"],[0.1111111111111111,\"#46039f\"],[0.2222222222222222,\"#7201a8\"],[0.3333333333333333,\"#9c179e\"],[0.4444444444444444,\"#bd3786\"],[0.5555555555555556,\"#d8576b\"],[0.6666666666666666,\"#ed7953\"],[0.7777777777777778,\"#fb9f3a\"],[0.8888888888888888,\"#fdca26\"],[1.0,\"#f0f921\"]],\"diverging\":[[0,\"#8e0152\"],[0.1,\"#c51b7d\"],[0.2,\"#de77ae\"],[0.3,\"#f1b6da\"],[0.4,\"#fde0ef\"],[0.5,\"#f7f7f7\"],[0.6,\"#e6f5d0\"],[0.7,\"#b8e186\"],[0.8,\"#7fbc41\"],[0.9,\"#4d9221\"],[1,\"#276419\"]]},\"xaxis\":{\"gridcolor\":\"#283442\",\"linecolor\":\"#506784\",\"ticks\":\"\",\"title\":{\"standoff\":15},\"zerolinecolor\":\"#283442\",\"automargin\":true,\"zerolinewidth\":2},\"yaxis\":{\"gridcolor\":\"#283442\",\"linecolor\":\"#506784\",\"ticks\":\"\",\"title\":{\"standoff\":15},\"zerolinecolor\":\"#283442\",\"automargin\":true,\"zerolinewidth\":2},\"scene\":{\"xaxis\":{\"backgroundcolor\":\"rgb(17,17,17)\",\"gridcolor\":\"#506784\",\"linecolor\":\"#506784\",\"showbackground\":true,\"ticks\":\"\",\"zerolinecolor\":\"#C8D4E3\",\"gridwidth\":2},\"yaxis\":{\"backgroundcolor\":\"rgb(17,17,17)\",\"gridcolor\":\"#506784\",\"linecolor\":\"#506784\",\"showbackground\":true,\"ticks\":\"\",\"zerolinecolor\":\"#C8D4E3\",\"gridwidth\":2},\"zaxis\":{\"backgroundcolor\":\"rgb(17,17,17)\",\"gridcolor\":\"#506784\",\"linecolor\":\"#506784\",\"showbackground\":true,\"ticks\":\"\",\"zerolinecolor\":\"#C8D4E3\",\"gridwidth\":2}},\"shapedefaults\":{\"line\":{\"color\":\"#f2f5fa\"}},\"annotationdefaults\":{\"arrowcolor\":\"#f2f5fa\",\"arrowhead\":0,\"arrowwidth\":1},\"geo\":{\"bgcolor\":\"rgb(17,17,17)\",\"landcolor\":\"rgb(17,17,17)\",\"subunitcolor\":\"#506784\",\"showland\":true,\"showlakes\":true,\"lakecolor\":\"rgb(17,17,17)\"},\"title\":{\"x\":0.05},\"updatemenudefaults\":{\"bgcolor\":\"#506784\",\"borderwidth\":0},\"sliderdefaults\":{\"bgcolor\":\"#C8D4E3\",\"borderwidth\":1,\"bordercolor\":\"rgb(17,17,17)\",\"tickwidth\":0},\"mapbox\":{\"style\":\"dark\"}}},\"xaxis\":{\"anchor\":\"y\",\"domain\":[0.0,1.0],\"title\":{\"text\":\"skill\"}},\"yaxis\":{\"anchor\":\"x\",\"domain\":[0.0,1.0],\"title\":{\"text\":\"frequency\"}},\"legend\":{\"tracegroupgap\":0},\"title\":{\"text\":\"Skill Clusters and Rankings\"},\"barmode\":\"relative\"},                        {\"responsive\": true}                    ).then(function(){\n                            \nvar gd = document.getElementById('178ba68a-92d8-463f-8fc3-0f39d5a2b79a');\nvar x = new MutationObserver(function (mutations, observer) {{\n        var display = window.getComputedStyle(gd).display;\n        if (!display || display === 'none') {{\n            console.log([gd, 'removed!']);\n            Plotly.purge(gd);\n            observer.disconnect();\n        }}\n}});\n\n// Listen for the removal of the full notebook cells\nvar notebookContainer = gd.closest('#notebook-container');\nif (notebookContainer) {{\n    x.observe(notebookContainer, {childList: true});\n}}\n\n// Listen for the clearing of the current output cell\nvar outputEl = gd.closest('.output');\nif (outputEl) {{\n    x.observe(outputEl, {childList: true});\n}}\n\n                        })                };                });            </script>        </div>"
     },
     "metadata": {},
     "output_type": "display_data"
    }
   ],
   "source": [
    "\n",
    "\n",
    "# Import libraries\n",
    "import plotly.express as px\n",
    "\n",
    "\n",
    "# Assuming you have extracted skills and stored them in the 'extracted_skills' column\n",
    "df['extracted_skills'] = df['job_title'].str.lower().str.split()\n",
    "\n",
    "# Flatten the list of lists into a single list of skills\n",
    "all_skills = [skill for skills_list in df['extracted_skills'] for skill in skills_list]\n",
    "\n",
    "# Create a DataFrame with skills and their frequencies\n",
    "skill_frequencies_df = pd.DataFrame(all_skills, columns=['skill']).value_counts().reset_index(name='frequency')\n",
    "\n",
    "# Job Families Overview\n",
    "fig1 = px.pie(df, names='job_title', title='Job Families Overview')\n",
    "\n",
    "# Skill Clusters and Rankings\n",
    "fig2 = px.bar(skill_frequencies_df, x='skill', y='frequency', title='Skill Clusters and Rankings')\n",
    "\n",
    "# Display the plots\n",
    "fig1.show()\n",
    "fig2.show()\n"
   ]
  }
 ],
 "metadata": {
  "colab": {
   "provenance": []
  },
  "kernelspec": {
   "display_name": "Python 3 (ipykernel)",
   "language": "python",
   "name": "python3"
  },
  "language_info": {
   "codemirror_mode": {
    "name": "ipython",
    "version": 3
   },
   "file_extension": ".py",
   "mimetype": "text/x-python",
   "name": "python",
   "nbconvert_exporter": "python",
   "pygments_lexer": "ipython3",
   "version": "3.11.5"
  }
 },
 "nbformat": 4,
 "nbformat_minor": 4
}
